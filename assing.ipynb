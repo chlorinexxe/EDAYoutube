{
 "cells": [
  {
   "cell_type": "markdown",
   "metadata": {},
   "source": [
    "## 1. Import required Libraries and read the provided Dataset(youtube_dis)"
   ]
  },
  {
   "cell_type": "code",
   "execution_count": 17,
   "metadata": {},
   "outputs": [],
   "source": [
    "import pandas as pd                                 #   Panal Datas\n",
    "import numpy as np                                  #   For any possible Numerical operations \n",
    "import matplotlib.pyplot as plt                     #   For Graph Plots\n",
    "import seaborn as sns                               #   For Graph Plots"
   ]
  },
  {
   "cell_type": "code",
   "execution_count": 18,
   "metadata": {},
   "outputs": [],
   "source": [
    "a=pd.read_csv('youtube_dislike_dataset.csv')        #   read it and save in 'a' "
   ]
  },
  {
   "cell_type": "code",
   "execution_count": 19,
   "metadata": {},
   "outputs": [
    {
     "data": {
      "text/html": [
       "<div>\n",
       "<style scoped>\n",
       "    .dataframe tbody tr th:only-of-type {\n",
       "        vertical-align: middle;\n",
       "    }\n",
       "\n",
       "    .dataframe tbody tr th {\n",
       "        vertical-align: top;\n",
       "    }\n",
       "\n",
       "    .dataframe thead th {\n",
       "        text-align: right;\n",
       "    }\n",
       "</style>\n",
       "<table border=\"1\" class=\"dataframe\">\n",
       "  <thead>\n",
       "    <tr style=\"text-align: right;\">\n",
       "      <th></th>\n",
       "      <th>video_id</th>\n",
       "      <th>title</th>\n",
       "      <th>channel_id</th>\n",
       "      <th>channel_title</th>\n",
       "      <th>published_at</th>\n",
       "      <th>view_count</th>\n",
       "      <th>likes</th>\n",
       "      <th>dislikes</th>\n",
       "      <th>comment_count</th>\n",
       "      <th>tags</th>\n",
       "      <th>description</th>\n",
       "      <th>comments</th>\n",
       "    </tr>\n",
       "  </thead>\n",
       "  <tbody>\n",
       "    <tr>\n",
       "      <th>0</th>\n",
       "      <td>--0bCF-iK2E</td>\n",
       "      <td>Jadon Sancho  Magical Skills &amp; Goals</td>\n",
       "      <td>UC6UL29enLNe4mqwTfAyeNuw</td>\n",
       "      <td>Bundesliga</td>\n",
       "      <td>2021-07-01 10:00:00</td>\n",
       "      <td>1048888</td>\n",
       "      <td>19515</td>\n",
       "      <td>226</td>\n",
       "      <td>1319</td>\n",
       "      <td>football soccer ftbol alemn Bundesliga season ...</td>\n",
       "      <td>Enjoy the best skills and goals from Jadon San...</td>\n",
       "      <td>Respect to Dortmund fans,must be sad losing hi...</td>\n",
       "    </tr>\n",
       "    <tr>\n",
       "      <th>1</th>\n",
       "      <td>--14w5SOEUs</td>\n",
       "      <td>Migos - Avalanche (Official Video)</td>\n",
       "      <td>UCGIelM2Dj3zza3xyV3pL3WQ</td>\n",
       "      <td>MigosVEVO</td>\n",
       "      <td>2021-06-10 16:00:00</td>\n",
       "      <td>15352638</td>\n",
       "      <td>359277</td>\n",
       "      <td>7479</td>\n",
       "      <td>18729</td>\n",
       "      <td>Migos Avalanche Quality Control Music/Motown R...</td>\n",
       "      <td>Watch the the official video for Migos - \"Aval...</td>\n",
       "      <td>Migos just makes me want to live my live to th...</td>\n",
       "    </tr>\n",
       "    <tr>\n",
       "      <th>2</th>\n",
       "      <td>--40TEbZ9Is</td>\n",
       "      <td>Supporting Actress in a Comedy: 73rd Emmys</td>\n",
       "      <td>UClBKH8yZRcM4AsRjDVEdjMg</td>\n",
       "      <td>Television Academy</td>\n",
       "      <td>2021-09-20 01:03:32</td>\n",
       "      <td>925281</td>\n",
       "      <td>11212</td>\n",
       "      <td>401</td>\n",
       "      <td>831</td>\n",
       "      <td></td>\n",
       "      <td>Hannah Waddingham wins the Emmy for Supporting...</td>\n",
       "      <td>Hannah's energy bursts through any screen. Wel...</td>\n",
       "    </tr>\n",
       "    <tr>\n",
       "      <th>3</th>\n",
       "      <td>--4tfbSyYDE</td>\n",
       "      <td>JO1'YOUNG (JO1 ver.)' PERFORMANCE VIDEO</td>\n",
       "      <td>UCsmXiDP8S40uBeJYxvyulmA</td>\n",
       "      <td>JO1</td>\n",
       "      <td>2021-03-03 10:00:17</td>\n",
       "      <td>2641597</td>\n",
       "      <td>39131</td>\n",
       "      <td>441</td>\n",
       "      <td>3745</td>\n",
       "      <td>PRODUCE101JAPAN              JO1   TheSTAR STA...</td>\n",
       "      <td>JO1'YOUNG (JO1 ver.)' PERFORMANCE VIDEO\\n\\n---...</td>\n",
       "      <td>youngVer&gt;&lt;  REN is really PERFECT. It's not ju...</td>\n",
       "    </tr>\n",
       "    <tr>\n",
       "      <th>4</th>\n",
       "      <td>--DKkzWVh-E</td>\n",
       "      <td>Why Retaining Walls Collapse</td>\n",
       "      <td>UCMOqf8ab-42UUQIdVoKwjlQ</td>\n",
       "      <td>Practical Engineering</td>\n",
       "      <td>2021-12-07 13:00:00</td>\n",
       "      <td>715724</td>\n",
       "      <td>32887</td>\n",
       "      <td>367</td>\n",
       "      <td>1067</td>\n",
       "      <td>retaining wall New Jersey highway Direct Conne...</td>\n",
       "      <td>One of the most important (and innocuous) part...</td>\n",
       "      <td>Keep up with all my projects here: https://pr...</td>\n",
       "    </tr>\n",
       "  </tbody>\n",
       "</table>\n",
       "</div>"
      ],
      "text/plain": [
       "      video_id                                       title  \\\n",
       "0  --0bCF-iK2E        Jadon Sancho  Magical Skills & Goals   \n",
       "1  --14w5SOEUs          Migos - Avalanche (Official Video)   \n",
       "2  --40TEbZ9Is  Supporting Actress in a Comedy: 73rd Emmys   \n",
       "3  --4tfbSyYDE     JO1'YOUNG (JO1 ver.)' PERFORMANCE VIDEO   \n",
       "4  --DKkzWVh-E                Why Retaining Walls Collapse   \n",
       "\n",
       "                 channel_id          channel_title         published_at  \\\n",
       "0  UC6UL29enLNe4mqwTfAyeNuw             Bundesliga  2021-07-01 10:00:00   \n",
       "1  UCGIelM2Dj3zza3xyV3pL3WQ              MigosVEVO  2021-06-10 16:00:00   \n",
       "2  UClBKH8yZRcM4AsRjDVEdjMg     Television Academy  2021-09-20 01:03:32   \n",
       "3  UCsmXiDP8S40uBeJYxvyulmA                    JO1  2021-03-03 10:00:17   \n",
       "4  UCMOqf8ab-42UUQIdVoKwjlQ  Practical Engineering  2021-12-07 13:00:00   \n",
       "\n",
       "   view_count   likes  dislikes  comment_count  \\\n",
       "0     1048888   19515       226           1319   \n",
       "1    15352638  359277      7479          18729   \n",
       "2      925281   11212       401            831   \n",
       "3     2641597   39131       441           3745   \n",
       "4      715724   32887       367           1067   \n",
       "\n",
       "                                                tags  \\\n",
       "0  football soccer ftbol alemn Bundesliga season ...   \n",
       "1  Migos Avalanche Quality Control Music/Motown R...   \n",
       "2                                                      \n",
       "3  PRODUCE101JAPAN              JO1   TheSTAR STA...   \n",
       "4  retaining wall New Jersey highway Direct Conne...   \n",
       "\n",
       "                                         description  \\\n",
       "0  Enjoy the best skills and goals from Jadon San...   \n",
       "1  Watch the the official video for Migos - \"Aval...   \n",
       "2  Hannah Waddingham wins the Emmy for Supporting...   \n",
       "3  JO1'YOUNG (JO1 ver.)' PERFORMANCE VIDEO\\n\\n---...   \n",
       "4  One of the most important (and innocuous) part...   \n",
       "\n",
       "                                            comments  \n",
       "0  Respect to Dortmund fans,must be sad losing hi...  \n",
       "1  Migos just makes me want to live my live to th...  \n",
       "2  Hannah's energy bursts through any screen. Wel...  \n",
       "3  youngVer><  REN is really PERFECT. It's not ju...  \n",
       "4   Keep up with all my projects here: https://pr...  "
      ]
     },
     "execution_count": 19,
     "metadata": {},
     "output_type": "execute_result"
    }
   ],
   "source": [
    "a.head(5)                                           #   To display Top 5 data in the DataFrame"
   ]
  },
  {
   "cell_type": "code",
   "execution_count": 20,
   "metadata": {},
   "outputs": [
    {
     "data": {
      "text/html": [
       "<div>\n",
       "<style scoped>\n",
       "    .dataframe tbody tr th:only-of-type {\n",
       "        vertical-align: middle;\n",
       "    }\n",
       "\n",
       "    .dataframe tbody tr th {\n",
       "        vertical-align: top;\n",
       "    }\n",
       "\n",
       "    .dataframe thead th {\n",
       "        text-align: right;\n",
       "    }\n",
       "</style>\n",
       "<table border=\"1\" class=\"dataframe\">\n",
       "  <thead>\n",
       "    <tr style=\"text-align: right;\">\n",
       "      <th></th>\n",
       "      <th>video_id</th>\n",
       "      <th>title</th>\n",
       "      <th>channel_id</th>\n",
       "      <th>channel_title</th>\n",
       "      <th>published_at</th>\n",
       "      <th>view_count</th>\n",
       "      <th>likes</th>\n",
       "      <th>dislikes</th>\n",
       "      <th>comment_count</th>\n",
       "      <th>tags</th>\n",
       "      <th>description</th>\n",
       "      <th>comments</th>\n",
       "    </tr>\n",
       "  </thead>\n",
       "  <tbody>\n",
       "    <tr>\n",
       "      <th>37417</th>\n",
       "      <td>zzd4ydafGR0</td>\n",
       "      <td>Lil Tjay - Calling My Phone (feat. 6LACK) [Off...</td>\n",
       "      <td>UCEB4a5o_6KfjxHwNMnmj54Q</td>\n",
       "      <td>Lil Tjay</td>\n",
       "      <td>2021-02-12 05:03:49</td>\n",
       "      <td>120408275</td>\n",
       "      <td>2180780</td>\n",
       "      <td>35871</td>\n",
       "      <td>81360</td>\n",
       "      <td>Lil Tjay Steady Calling My Phone Calling My Ph...</td>\n",
       "      <td>Official video for \"Calling My Phone\" by Lil T...</td>\n",
       "      <td>'DESTINED 2 WIN' OUT NOW !! https://liltjay.ln...</td>\n",
       "    </tr>\n",
       "    <tr>\n",
       "      <th>37418</th>\n",
       "      <td>zziBybeSAtw</td>\n",
       "      <td>PELICANS at LAKERS | FULL GAME HIGHLIGHTS | Ja...</td>\n",
       "      <td>UCWJ2lWNubArHWmf3FIHbfcQ</td>\n",
       "      <td>NBA</td>\n",
       "      <td>2021-01-16 05:39:05</td>\n",
       "      <td>2841917</td>\n",
       "      <td>20759</td>\n",
       "      <td>1049</td>\n",
       "      <td>2624</td>\n",
       "      <td>NBA G League Basketball game-0022000187 Lakers...</td>\n",
       "      <td>PELICANS at LAKERS | FULL GAME HIGHLIGHTS | Ja...</td>\n",
       "      <td>Montrezl Harrell is going crazy with the rebou...</td>\n",
       "    </tr>\n",
       "    <tr>\n",
       "      <th>37419</th>\n",
       "      <td>zzk09ESX7e0</td>\n",
       "      <td>[MV]  (MAMAMOO) - Where Are We Now</td>\n",
       "      <td>UCuhAUMLzJxlP1W7mEk0_6lA</td>\n",
       "      <td>MAMAMOO</td>\n",
       "      <td>2021-06-02 09:00:10</td>\n",
       "      <td>13346678</td>\n",
       "      <td>720854</td>\n",
       "      <td>4426</td>\n",
       "      <td>90616</td>\n",
       "      <td>MAMAMOO  WAW  WAW MAMAMOO WAW Where Are We Now...</td>\n",
       "      <td>[MV]  (MAMAMOO) - Where Are We Now\\n\\nInstagra...</td>\n",
       "      <td>I honestly do not know why this song hit so ha...</td>\n",
       "    </tr>\n",
       "    <tr>\n",
       "      <th>37420</th>\n",
       "      <td>zzmQEb0Em5I</td>\n",
       "      <td>FELLIPE ESCUDERO- Master Podcast  #12</td>\n",
       "      <td>UC8NjnNWMsRqq11NYvHAQb1g</td>\n",
       "      <td>Master Podcast</td>\n",
       "      <td>2020-10-20 20:59:30</td>\n",
       "      <td>252057</td>\n",
       "      <td>19198</td>\n",
       "      <td>1234</td>\n",
       "      <td>1471</td>\n",
       "      <td>master masterpodcast lord lord vinheteiro z z ...</td>\n",
       "      <td>DOCTOR HAIR\\nhttps://www.thedoctorhair.com/?fb...</td>\n",
       "      <td>Foi um prazer passar esta tarde com vocs debat...</td>\n",
       "    </tr>\n",
       "    <tr>\n",
       "      <th>37421</th>\n",
       "      <td>zzxPZwaA-8w</td>\n",
       "      <td>Gareth Bale brace secures dramatic comeback on...</td>\n",
       "      <td>UCEg25rdRZXg32iwai6N6l0w</td>\n",
       "      <td>Tottenham Hotspur</td>\n",
       "      <td>2021-05-23 21:00:31</td>\n",
       "      <td>2252090</td>\n",
       "      <td>34063</td>\n",
       "      <td>868</td>\n",
       "      <td>2004</td>\n",
       "      <td>Spurs Tottenham Hotspur   Tottenham Leicester ...</td>\n",
       "      <td>Two minute highlights from Tottenham Hotspur's...</td>\n",
       "      <td>Thank you Kane for everything you have given t...</td>\n",
       "    </tr>\n",
       "  </tbody>\n",
       "</table>\n",
       "</div>"
      ],
      "text/plain": [
       "          video_id                                              title  \\\n",
       "37417  zzd4ydafGR0  Lil Tjay - Calling My Phone (feat. 6LACK) [Off...   \n",
       "37418  zziBybeSAtw  PELICANS at LAKERS | FULL GAME HIGHLIGHTS | Ja...   \n",
       "37419  zzk09ESX7e0                 [MV]  (MAMAMOO) - Where Are We Now   \n",
       "37420  zzmQEb0Em5I              FELLIPE ESCUDERO- Master Podcast  #12   \n",
       "37421  zzxPZwaA-8w  Gareth Bale brace secures dramatic comeback on...   \n",
       "\n",
       "                     channel_id      channel_title         published_at  \\\n",
       "37417  UCEB4a5o_6KfjxHwNMnmj54Q           Lil Tjay  2021-02-12 05:03:49   \n",
       "37418  UCWJ2lWNubArHWmf3FIHbfcQ                NBA  2021-01-16 05:39:05   \n",
       "37419  UCuhAUMLzJxlP1W7mEk0_6lA            MAMAMOO  2021-06-02 09:00:10   \n",
       "37420  UC8NjnNWMsRqq11NYvHAQb1g     Master Podcast  2020-10-20 20:59:30   \n",
       "37421  UCEg25rdRZXg32iwai6N6l0w  Tottenham Hotspur  2021-05-23 21:00:31   \n",
       "\n",
       "       view_count    likes  dislikes  comment_count  \\\n",
       "37417   120408275  2180780     35871          81360   \n",
       "37418     2841917    20759      1049           2624   \n",
       "37419    13346678   720854      4426          90616   \n",
       "37420      252057    19198      1234           1471   \n",
       "37421     2252090    34063       868           2004   \n",
       "\n",
       "                                                    tags  \\\n",
       "37417  Lil Tjay Steady Calling My Phone Calling My Ph...   \n",
       "37418  NBA G League Basketball game-0022000187 Lakers...   \n",
       "37419  MAMAMOO  WAW  WAW MAMAMOO WAW Where Are We Now...   \n",
       "37420  master masterpodcast lord lord vinheteiro z z ...   \n",
       "37421  Spurs Tottenham Hotspur   Tottenham Leicester ...   \n",
       "\n",
       "                                             description  \\\n",
       "37417  Official video for \"Calling My Phone\" by Lil T...   \n",
       "37418  PELICANS at LAKERS | FULL GAME HIGHLIGHTS | Ja...   \n",
       "37419  [MV]  (MAMAMOO) - Where Are We Now\\n\\nInstagra...   \n",
       "37420  DOCTOR HAIR\\nhttps://www.thedoctorhair.com/?fb...   \n",
       "37421  Two minute highlights from Tottenham Hotspur's...   \n",
       "\n",
       "                                                comments  \n",
       "37417  'DESTINED 2 WIN' OUT NOW !! https://liltjay.ln...  \n",
       "37418  Montrezl Harrell is going crazy with the rebou...  \n",
       "37419  I honestly do not know why this song hit so ha...  \n",
       "37420  Foi um prazer passar esta tarde com vocs debat...  \n",
       "37421  Thank you Kane for everything you have given t...  "
      ]
     },
     "execution_count": 20,
     "metadata": {},
     "output_type": "execute_result"
    }
   ],
   "source": [
    "a.tail(5)                                           #   To display the Bottom 5 data in the DataFrame"
   ]
  },
  {
   "cell_type": "markdown",
   "metadata": {},
   "source": [
    "## 2. DataFrame info and Inference "
   ]
  },
  {
   "cell_type": "markdown",
   "metadata": {},
   "source": [
    "##### ***Outside of question (For understanding)***"
   ]
  },
  {
   "cell_type": "code",
   "execution_count": 21,
   "metadata": {},
   "outputs": [
    {
     "name": "stdout",
     "output_type": "stream",
     "text": [
      "[video_id, title, channel_id, channel_title, published_at, view_count, likes, dislikes, comment_count, tags, description, comments]\n"
     ]
    }
   ],
   "source": [
    "c=list(a.columns)                           #   Copy all the Columns names in a variable to avoid changing original dataframe.\n",
    "print(str(c).replace(\"'\",\"\"))               #   To Print all the Columns "
   ]
  },
  {
   "cell_type": "markdown",
   "metadata": {},
   "source": [
    "### Info and Inference"
   ]
  },
  {
   "cell_type": "code",
   "execution_count": 22,
   "metadata": {},
   "outputs": [
    {
     "name": "stdout",
     "output_type": "stream",
     "text": [
      "<class 'pandas.core.frame.DataFrame'>\n",
      "RangeIndex: 37422 entries, 0 to 37421\n",
      "Data columns (total 12 columns):\n",
      " #   Column         Non-Null Count  Dtype \n",
      "---  ------         --------------  ----- \n",
      " 0   video_id       37422 non-null  object\n",
      " 1   title          37422 non-null  object\n",
      " 2   channel_id     37422 non-null  object\n",
      " 3   channel_title  37422 non-null  object\n",
      " 4   published_at   37422 non-null  object\n",
      " 5   view_count     37422 non-null  int64 \n",
      " 6   likes          37422 non-null  int64 \n",
      " 7   dislikes       37422 non-null  int64 \n",
      " 8   comment_count  37422 non-null  int64 \n",
      " 9   tags           37422 non-null  object\n",
      " 10  description    37422 non-null  object\n",
      " 11  comments       37264 non-null  object\n",
      "dtypes: int64(4), object(8)\n",
      "memory usage: 3.4+ MB\n"
     ]
    }
   ],
   "source": [
    "a.info()                                    #   Retrieves the NonNull,Datatype,Column name and Index of all the columns "
   ]
  },
  {
   "cell_type": "code",
   "execution_count": 23,
   "metadata": {},
   "outputs": [
    {
     "data": {
      "text/plain": [
       "(37422, 12)"
      ]
     },
     "execution_count": 23,
     "metadata": {},
     "output_type": "execute_result"
    }
   ],
   "source": [
    "a.shape                                     #   Prints the Shape of the Data Frame as (Rows , Columns)               "
   ]
  },
  {
   "cell_type": "markdown",
   "metadata": {},
   "source": [
    "By using shape function we can find the number of Rows and Columns in the Dataframe.Which is 37422 Rows and 12 Columns from above code cell.\n",
    "\n",
    "- From the Data Info there are 11 different columns namely <br>[video_id, title, channel_id, channel_title, published_at, view_count, likes, dislikes, comment_count, tags, description, comments]\n",
    "\n",
    "\n",
    "- Most of the columns contains object as a Datatype which means there are Nan values present in the column. Few Column like [view_count,likes,dislikes,comment_count] contains int64 which means the column contains 0 Nan values since NaN values are Float Datatypes.\n",
    "\n",
    "- From the a.head() and a.tail()  we can see the sample of the Data of all the columns.\n",
    "\n",
    "- Form the sample head and tail [video_id,channel_id] are pretty much ignorable columns which provides no information about the Data but for reference match.\n",
    "\n",
    "- Title of video tells that the video is about,[published_at,view_count,likes,dislikes,comment_count] are pretty much straight forward. <br>Tags are relative things that might contain in the video and I assume this is to match the search to the video.<br> Description either contains the Description of the video of what it is or it contains the links which redirects to the profile of the shoutouts.<br> Comments contains the comments in the video.<br>"
   ]
  },
  {
   "cell_type": "markdown",
   "metadata": {},
   "source": [
    "## 3.Perecentage of the missing values and drop or impute them"
   ]
  },
  {
   "cell_type": "code",
   "execution_count": 24,
   "metadata": {},
   "outputs": [
    {
     "data": {
      "text/plain": [
       "video_id         0.000000\n",
       "title            0.000000\n",
       "channel_id       0.000000\n",
       "channel_title    0.000000\n",
       "published_at     0.000000\n",
       "view_count       0.000000\n",
       "likes            0.000000\n",
       "dislikes         0.000000\n",
       "comment_count    0.000000\n",
       "tags             0.000000\n",
       "description      0.000000\n",
       "comments         0.422212\n",
       "dtype: float64"
      ]
     },
     "execution_count": 24,
     "metadata": {},
     "output_type": "execute_result"
    }
   ],
   "source": [
    "(a.isnull().sum())*100/len(a)       #   Prints the Percentage of Nan Values or Missing Values in the Columns \n",
    "                                    #   (x*100/total rows) where x  is sum number of Missing values in a columns"
   ]
  },
  {
   "cell_type": "markdown",
   "metadata": {},
   "source": [
    "The missing values are found in the Comments Columns and can be dropped because comments are string data type and can't be imputed."
   ]
  },
  {
   "cell_type": "code",
   "execution_count": 25,
   "metadata": {},
   "outputs": [],
   "source": [
    "a=a.dropna()                        #    Can use a.dropna(inplace=True)"
   ]
  },
  {
   "cell_type": "markdown",
   "metadata": {},
   "source": [
    "## 4. Check the statistical summary of both numerical and categorical columns and inferences"
   ]
  },
  {
   "cell_type": "code",
   "execution_count": 26,
   "metadata": {},
   "outputs": [
    {
     "data": {
      "text/html": [
       "<div>\n",
       "<style scoped>\n",
       "    .dataframe tbody tr th:only-of-type {\n",
       "        vertical-align: middle;\n",
       "    }\n",
       "\n",
       "    .dataframe tbody tr th {\n",
       "        vertical-align: top;\n",
       "    }\n",
       "\n",
       "    .dataframe thead th {\n",
       "        text-align: right;\n",
       "    }\n",
       "</style>\n",
       "<table border=\"1\" class=\"dataframe\">\n",
       "  <thead>\n",
       "    <tr style=\"text-align: right;\">\n",
       "      <th></th>\n",
       "      <th>video_id</th>\n",
       "      <th>title</th>\n",
       "      <th>channel_id</th>\n",
       "      <th>channel_title</th>\n",
       "      <th>published_at</th>\n",
       "      <th>tags</th>\n",
       "      <th>description</th>\n",
       "      <th>comments</th>\n",
       "    </tr>\n",
       "  </thead>\n",
       "  <tbody>\n",
       "    <tr>\n",
       "      <th>count</th>\n",
       "      <td>37264</td>\n",
       "      <td>37264</td>\n",
       "      <td>37264</td>\n",
       "      <td>37264</td>\n",
       "      <td>37264</td>\n",
       "      <td>37264</td>\n",
       "      <td>37264</td>\n",
       "      <td>37264</td>\n",
       "    </tr>\n",
       "    <tr>\n",
       "      <th>unique</th>\n",
       "      <td>37264</td>\n",
       "      <td>36958</td>\n",
       "      <td>10891</td>\n",
       "      <td>10813</td>\n",
       "      <td>36617</td>\n",
       "      <td>28705</td>\n",
       "      <td>35479</td>\n",
       "      <td>37264</td>\n",
       "    </tr>\n",
       "    <tr>\n",
       "      <th>top</th>\n",
       "      <td>--0bCF-iK2E</td>\n",
       "      <td>www</td>\n",
       "      <td>UCNAf1k0yIjyGu3k9BwAg3lg</td>\n",
       "      <td>Sky Sports Football</td>\n",
       "      <td>2020-10-16 04:00:10</td>\n",
       "      <td></td>\n",
       "      <td></td>\n",
       "      <td>Respect to Dortmund fans,must be sad losing hi...</td>\n",
       "    </tr>\n",
       "    <tr>\n",
       "      <th>freq</th>\n",
       "      <td>1</td>\n",
       "      <td>21</td>\n",
       "      <td>533</td>\n",
       "      <td>533</td>\n",
       "      <td>6</td>\n",
       "      <td>3808</td>\n",
       "      <td>587</td>\n",
       "      <td>1</td>\n",
       "    </tr>\n",
       "  </tbody>\n",
       "</table>\n",
       "</div>"
      ],
      "text/plain": [
       "           video_id  title                channel_id        channel_title  \\\n",
       "count         37264  37264                     37264                37264   \n",
       "unique        37264  36958                     10891                10813   \n",
       "top     --0bCF-iK2E    www  UCNAf1k0yIjyGu3k9BwAg3lg  Sky Sports Football   \n",
       "freq              1     21                       533                  533   \n",
       "\n",
       "               published_at   tags description  \\\n",
       "count                 37264  37264       37264   \n",
       "unique                36617  28705       35479   \n",
       "top     2020-10-16 04:00:10                      \n",
       "freq                      6   3808         587   \n",
       "\n",
       "                                                 comments  \n",
       "count                                               37264  \n",
       "unique                                              37264  \n",
       "top     Respect to Dortmund fans,must be sad losing hi...  \n",
       "freq                                                    1  "
      ]
     },
     "execution_count": 26,
     "metadata": {},
     "output_type": "execute_result"
    }
   ],
   "source": [
    "a.describe(include=object)          #   Include Parameter includes the DataType and Describes the Statistical Summary of Categorical Columns              "
   ]
  },
  {
   "cell_type": "code",
   "execution_count": 27,
   "metadata": {},
   "outputs": [
    {
     "data": {
      "text/html": [
       "<div>\n",
       "<style scoped>\n",
       "    .dataframe tbody tr th:only-of-type {\n",
       "        vertical-align: middle;\n",
       "    }\n",
       "\n",
       "    .dataframe tbody tr th {\n",
       "        vertical-align: top;\n",
       "    }\n",
       "\n",
       "    .dataframe thead th {\n",
       "        text-align: right;\n",
       "    }\n",
       "</style>\n",
       "<table border=\"1\" class=\"dataframe\">\n",
       "  <thead>\n",
       "    <tr style=\"text-align: right;\">\n",
       "      <th></th>\n",
       "      <th>view_count</th>\n",
       "      <th>likes</th>\n",
       "      <th>dislikes</th>\n",
       "      <th>comment_count</th>\n",
       "    </tr>\n",
       "  </thead>\n",
       "  <tbody>\n",
       "    <tr>\n",
       "      <th>count</th>\n",
       "      <td>3.726400e+04</td>\n",
       "      <td>3.726400e+04</td>\n",
       "      <td>3.726400e+04</td>\n",
       "      <td>3.726400e+04</td>\n",
       "    </tr>\n",
       "    <tr>\n",
       "      <th>mean</th>\n",
       "      <td>5.710821e+06</td>\n",
       "      <td>1.672867e+05</td>\n",
       "      <td>4.996434e+03</td>\n",
       "      <td>9.966953e+03</td>\n",
       "    </tr>\n",
       "    <tr>\n",
       "      <th>std</th>\n",
       "      <td>2.431304e+07</td>\n",
       "      <td>5.384931e+05</td>\n",
       "      <td>3.075194e+04</td>\n",
       "      <td>1.173465e+05</td>\n",
       "    </tr>\n",
       "    <tr>\n",
       "      <th>min</th>\n",
       "      <td>2.036800e+04</td>\n",
       "      <td>2.200000e+01</td>\n",
       "      <td>3.000000e+00</td>\n",
       "      <td>1.000000e+00</td>\n",
       "    </tr>\n",
       "    <tr>\n",
       "      <th>25%</th>\n",
       "      <td>5.141305e+05</td>\n",
       "      <td>1.331725e+04</td>\n",
       "      <td>2.827500e+02</td>\n",
       "      <td>9.140000e+02</td>\n",
       "    </tr>\n",
       "    <tr>\n",
       "      <th>50%</th>\n",
       "      <td>1.321860e+06</td>\n",
       "      <td>4.255600e+04</td>\n",
       "      <td>7.980000e+02</td>\n",
       "      <td>2.347000e+03</td>\n",
       "    </tr>\n",
       "    <tr>\n",
       "      <th>75%</th>\n",
       "      <td>3.674527e+06</td>\n",
       "      <td>1.309665e+05</td>\n",
       "      <td>2.466250e+03</td>\n",
       "      <td>6.212000e+03</td>\n",
       "    </tr>\n",
       "    <tr>\n",
       "      <th>max</th>\n",
       "      <td>1.322797e+09</td>\n",
       "      <td>3.183768e+07</td>\n",
       "      <td>2.397733e+06</td>\n",
       "      <td>1.607103e+07</td>\n",
       "    </tr>\n",
       "  </tbody>\n",
       "</table>\n",
       "</div>"
      ],
      "text/plain": [
       "         view_count         likes      dislikes  comment_count\n",
       "count  3.726400e+04  3.726400e+04  3.726400e+04   3.726400e+04\n",
       "mean   5.710821e+06  1.672867e+05  4.996434e+03   9.966953e+03\n",
       "std    2.431304e+07  5.384931e+05  3.075194e+04   1.173465e+05\n",
       "min    2.036800e+04  2.200000e+01  3.000000e+00   1.000000e+00\n",
       "25%    5.141305e+05  1.331725e+04  2.827500e+02   9.140000e+02\n",
       "50%    1.321860e+06  4.255600e+04  7.980000e+02   2.347000e+03\n",
       "75%    3.674527e+06  1.309665e+05  2.466250e+03   6.212000e+03\n",
       "max    1.322797e+09  3.183768e+07  2.397733e+06   1.607103e+07"
      ]
     },
     "execution_count": 27,
     "metadata": {},
     "output_type": "execute_result"
    }
   ],
   "source": [
    "a.describe()                        #   This is the Default Describe option which gives out the Statistical Summary of Numerical Columns"
   ]
  },
  {
   "cell_type": "markdown",
   "metadata": {},
   "source": [
    "## 5. Conversion of Datatype of column published_at to pandas datetime"
   ]
  },
  {
   "cell_type": "code",
   "execution_count": 28,
   "metadata": {},
   "outputs": [
    {
     "data": {
      "text/plain": [
       "0       2021-07-01 10:00:00\n",
       "1       2021-06-10 16:00:00\n",
       "2       2021-09-20 01:03:32\n",
       "3       2021-03-03 10:00:17\n",
       "4       2021-12-07 13:00:00\n",
       "                ...        \n",
       "37417   2021-02-12 05:03:49\n",
       "37418   2021-01-16 05:39:05\n",
       "37419   2021-06-02 09:00:10\n",
       "37420   2020-10-20 20:59:30\n",
       "37421   2021-05-23 21:00:31\n",
       "Name: published_at, Length: 37264, dtype: datetime64[ns]"
      ]
     },
     "execution_count": 28,
     "metadata": {},
     "output_type": "execute_result"
    }
   ],
   "source": [
    "#   To be in a safe side copying of series into a variable prevent if any mistake is done to the root dataframe (original Dataframe)\n",
    "b=pd.to_datetime(a['published_at'],format='%Y-%m-%d %H:%M:%S').copy()   #   b is a temporary Variable which takes up published_at Column as datetime64 datatype\n",
    "b                                                                       #   pd.to_datetime function converts the string(object datatype) into datetime Datatype by feeding the format of the string given"
   ]
  },
  {
   "cell_type": "code",
   "execution_count": 29,
   "metadata": {},
   "outputs": [
    {
     "data": {
      "text/plain": [
       "dtype('<M8[ns]')"
      ]
     },
     "execution_count": 29,
     "metadata": {},
     "output_type": "execute_result"
    }
   ],
   "source": [
    "a['published_at']=b             #   So the Previous Code cells there we no error so we can replace the Column with the Temporay Series Variable \n",
    "a.published_at.dtype            #   Returns the Datatype of the Column of published_at to confirm its a Datetime DataType"
   ]
  },
  {
   "cell_type": "markdown",
   "metadata": {},
   "source": [
    "## 6. To Create a Column published_month using the column published_at Display all the months."
   ]
  },
  {
   "cell_type": "code",
   "execution_count": 30,
   "metadata": {},
   "outputs": [],
   "source": [
    "#   Again to be in Safe side a temporary variable is used to store the info without tampering the Main DataFrame\n",
    "\n",
    "b=pd.DatetimeIndex(a['published_at']).month.copy()         #   This Functions returns the Month in Number(1,2 as Jan , Feb) and stores in temporary b"
   ]
  },
  {
   "cell_type": "code",
   "execution_count": 31,
   "metadata": {},
   "outputs": [
    {
     "data": {
      "text/plain": [
       "Int64Index([ 7,  6,  9,  3, 12, 12, 10,  3,  8,  8,\n",
       "            ...\n",
       "             8,  8,  8, 12, 11,  2,  1,  6, 10,  5],\n",
       "           dtype='int64', name='published_at', length=37264)"
      ]
     },
     "execution_count": 31,
     "metadata": {},
     "output_type": "execute_result"
    }
   ],
   "source": [
    "b                           #   To Show whats in b and to Confirm what we need"
   ]
  },
  {
   "cell_type": "code",
   "execution_count": 32,
   "metadata": {},
   "outputs": [],
   "source": [
    "a['published_month']=b      #   To store b in a new column named published_month  "
   ]
  },
  {
   "cell_type": "code",
   "execution_count": 33,
   "metadata": {},
   "outputs": [
    {
     "data": {
      "text/plain": [
       "0    7\n",
       "1    6\n",
       "2    9\n",
       "Name: published_month, dtype: int64"
      ]
     },
     "execution_count": 33,
     "metadata": {},
     "output_type": "execute_result"
    }
   ],
   "source": [
    "a.published_month.head(3)   #   To show whats in a['published_month']"
   ]
  },
  {
   "cell_type": "markdown",
   "metadata": {},
   "source": [
    "## 7. Replace the Numbers as Months as Jan , Feb"
   ]
  },
  {
   "cell_type": "code",
   "execution_count": 34,
   "metadata": {},
   "outputs": [],
   "source": [
    "#   Again to be in Safe side a temporary variable is used to store the Main DataFrame info without tampering the Main DataFrame\n",
    "\n",
    "b=a['published_month'].copy()   #   Copying into b"
   ]
  },
  {
   "cell_type": "code",
   "execution_count": 35,
   "metadata": {},
   "outputs": [
    {
     "name": "stdout",
     "output_type": "stream",
     "text": [
      "<class 'pandas.core.series.Series'>\n",
      "Int64Index: 37264 entries, 0 to 37421\n",
      "Series name: published_month\n",
      "Non-Null Count  Dtype\n",
      "--------------  -----\n",
      "37264 non-null  int64\n",
      "dtypes: int64(1)\n",
      "memory usage: 582.2 KB\n"
     ]
    }
   ],
   "source": [
    "b.info()                        #   To Find what is in temporary variable b"
   ]
  },
  {
   "cell_type": "code",
   "execution_count": 36,
   "metadata": {},
   "outputs": [],
   "source": [
    "#   To Create a function which has a dictionay of keys 1-12 and values 'Jan'-'Dec' Respectively\n",
    "#   And Map the Numbers to Name of the Month as Jan , Feb ...\n",
    "#   And at End it returns a Series which contains Month Names instead of Month Numbers respectively\n",
    "\n",
    "def mon(x):\n",
    "    num=[1,2,3,4,5,6,7,8,9,10,11,12]                                                #   Month Numbers\n",
    "    mo=['Jan','Feb','Mar','Apr','May','Jun','Jul','Aug','Sep','Oct','Nov','Dec']    #   Month Names\n",
    "    m=dict(zip(num,mo))                                                             #   Making it a Dict to map it      \n",
    "    c=x.map(m)                                                                      #   Creating a series c and maping it with the Dictionary\n",
    "    return c                                                                        #   Returns the series c\n",
    "    "
   ]
  },
  {
   "cell_type": "code",
   "execution_count": 37,
   "metadata": {},
   "outputs": [
    {
     "data": {
      "text/html": [
       "<div>\n",
       "<style scoped>\n",
       "    .dataframe tbody tr th:only-of-type {\n",
       "        vertical-align: middle;\n",
       "    }\n",
       "\n",
       "    .dataframe tbody tr th {\n",
       "        vertical-align: top;\n",
       "    }\n",
       "\n",
       "    .dataframe thead th {\n",
       "        text-align: right;\n",
       "    }\n",
       "</style>\n",
       "<table border=\"1\" class=\"dataframe\">\n",
       "  <thead>\n",
       "    <tr style=\"text-align: right;\">\n",
       "      <th></th>\n",
       "      <th>published_month</th>\n",
       "    </tr>\n",
       "    <tr>\n",
       "      <th>published_month</th>\n",
       "      <th></th>\n",
       "    </tr>\n",
       "  </thead>\n",
       "  <tbody>\n",
       "    <tr>\n",
       "      <th>7</th>\n",
       "      <td>Mar</td>\n",
       "    </tr>\n",
       "    <tr>\n",
       "      <th>6</th>\n",
       "      <td>Oct</td>\n",
       "    </tr>\n",
       "    <tr>\n",
       "      <th>9</th>\n",
       "      <td>Aug</td>\n",
       "    </tr>\n",
       "    <tr>\n",
       "      <th>3</th>\n",
       "      <td>Mar</td>\n",
       "    </tr>\n",
       "    <tr>\n",
       "      <th>12</th>\n",
       "      <td>Jul</td>\n",
       "    </tr>\n",
       "    <tr>\n",
       "      <th>...</th>\n",
       "      <td>...</td>\n",
       "    </tr>\n",
       "    <tr>\n",
       "      <th>2</th>\n",
       "      <td>Sep</td>\n",
       "    </tr>\n",
       "    <tr>\n",
       "      <th>1</th>\n",
       "      <td>Jun</td>\n",
       "    </tr>\n",
       "    <tr>\n",
       "      <th>6</th>\n",
       "      <td>Oct</td>\n",
       "    </tr>\n",
       "    <tr>\n",
       "      <th>10</th>\n",
       "      <td>Sep</td>\n",
       "    </tr>\n",
       "    <tr>\n",
       "      <th>5</th>\n",
       "      <td>Dec</td>\n",
       "    </tr>\n",
       "  </tbody>\n",
       "</table>\n",
       "<p>37264 rows × 1 columns</p>\n",
       "</div>"
      ],
      "text/plain": [
       "                published_month\n",
       "published_month                \n",
       "7                           Mar\n",
       "6                           Oct\n",
       "9                           Aug\n",
       "3                           Mar\n",
       "12                          Jul\n",
       "...                         ...\n",
       "2                           Sep\n",
       "1                           Jun\n",
       "6                           Oct\n",
       "10                          Sep\n",
       "5                           Dec\n",
       "\n",
       "[37264 rows x 1 columns]"
      ]
     },
     "execution_count": 37,
     "metadata": {},
     "output_type": "execute_result"
    }
   ],
   "source": [
    "pd.DataFrame(mon(b),b)                  #   Created a DataFrame (For clean output) to show the Month Number and Month Names Match each other"
   ]
  },
  {
   "cell_type": "code",
   "execution_count": 38,
   "metadata": {},
   "outputs": [],
   "source": [
    "a['published_month']=mon(b)             #   Creating a New Column named published_month and store the Series mon(b) which returns Month Names as Object DataType"
   ]
  },
  {
   "cell_type": "markdown",
   "metadata": {},
   "source": [
    "## 8. Number of Videos published each month and arrange the months in a decreasing order"
   ]
  },
  {
   "cell_type": "code",
   "execution_count": 39,
   "metadata": {},
   "outputs": [],
   "source": [
    "b=a.published_month.value_counts()              #   A variable b is created which contains the count of the Months repeated"
   ]
  },
  {
   "cell_type": "code",
   "execution_count": 40,
   "metadata": {},
   "outputs": [
    {
     "name": "stdout",
     "output_type": "stream",
     "text": [
      "Oct    4976\n",
      "Sep    4854\n",
      "Nov    4821\n",
      "Aug    4250\n",
      "Dec    3063\n",
      "Jul    2331\n",
      "Jun    2305\n",
      "Mar    2248\n",
      "Feb    2125\n",
      "Apr    2119\n",
      "Jan    2099\n",
      "May    2073\n",
      "Name: published_month, dtype: int64\n"
     ]
    }
   ],
   "source": [
    "print(b.sort_values(ascending=False))           #   Function which print the Sorted Value counts of months in Decending Order"
   ]
  },
  {
   "cell_type": "markdown",
   "metadata": {},
   "source": [
    "## 9. Count of Unique video_id , channel_id and channel_title"
   ]
  },
  {
   "cell_type": "code",
   "execution_count": 41,
   "metadata": {},
   "outputs": [],
   "source": [
    "#   Copying the columns video_id , channel_id , channel_title into 3 different variables b1,b2,b3 respectively\n",
    "\n",
    "b1,b2,b3=a.video_id.copy(),a.channel_id.copy(),a.channel_title.copy()"
   ]
  },
  {
   "cell_type": "code",
   "execution_count": 42,
   "metadata": {},
   "outputs": [
    {
     "data": {
      "text/plain": [
       "37264"
      ]
     },
     "execution_count": 42,
     "metadata": {},
     "output_type": "execute_result"
    }
   ],
   "source": [
    "c1=b1.unique().size    #   Returns the Number of unique video_id\n",
    "c1"
   ]
  },
  {
   "cell_type": "code",
   "execution_count": 43,
   "metadata": {},
   "outputs": [
    {
     "data": {
      "text/plain": [
       "10891"
      ]
     },
     "execution_count": 43,
     "metadata": {},
     "output_type": "execute_result"
    }
   ],
   "source": [
    "c2=b2.unique().size    #   Returns the Number of unique channel_id\n",
    "c2"
   ]
  },
  {
   "cell_type": "code",
   "execution_count": 44,
   "metadata": {},
   "outputs": [
    {
     "data": {
      "text/plain": [
       "10813"
      ]
     },
     "execution_count": 44,
     "metadata": {},
     "output_type": "execute_result"
    }
   ],
   "source": [
    "c3=b3.unique().size    #   Returns the Number of unique channel_title\n",
    "c3"
   ]
  },
  {
   "cell_type": "code",
   "execution_count": 45,
   "metadata": {},
   "outputs": [],
   "source": [
    "# d1,d2,d3 = b1.unique().size,b2.unique().size,b3.unique().size               # Other ways to put it in a line\n",
    "# d1,d2,d3"
   ]
  },
  {
   "cell_type": "code",
   "execution_count": 46,
   "metadata": {},
   "outputs": [
    {
     "name": "stdout",
     "output_type": "stream",
     "text": [
      "Number of Unique \n",
      "video_id are \t\t:37264, \n",
      "channel_id are \t\t:10891 and \n",
      "channel_title are \t:10813.\n"
     ]
    }
   ],
   "source": [
    "print(f'Number of Unique \\nvideo_id are \\t\\t:{c1}, \\nchannel_id are \\t\\t:{c2} and \\nchannel_title are \\t:{c3}.')"
   ]
  },
  {
   "cell_type": "markdown",
   "metadata": {},
   "source": [
    "## 10. Top 10 Channel names having the highest number of videos in the dataset and the bottom10 having lowest number of videos."
   ]
  },
  {
   "cell_type": "code",
   "execution_count": 47,
   "metadata": {},
   "outputs": [],
   "source": [
    "#   Storing the Channel Title in a Temporary Variable\n",
    "b=a.channel_title.value_counts().copy()     #   Since the data set 1 row contains descreption of 1 video so the value count of the channel_title gives out number of time the channel posted videos"
   ]
  },
  {
   "cell_type": "code",
   "execution_count": 48,
   "metadata": {},
   "outputs": [
    {
     "data": {
      "text/plain": [
       "Sky Sports Football        533\n",
       "The United Stand           301\n",
       "BT Sport                   246\n",
       "NBA                        209\n",
       "NFL                        162\n",
       "                          ... \n",
       "JFlaMusic                    1\n",
       "Ron Bielecki                 1\n",
       "GLAD Empire                  1\n",
       "Hip Hop News Uncensored      1\n",
       "Master Podcast               1\n",
       "Name: channel_title, Length: 10813, dtype: int64"
      ]
     },
     "execution_count": 48,
     "metadata": {},
     "output_type": "execute_result"
    }
   ],
   "source": [
    "b               #   By default the Function value_counts() Arranges in Decending Order"
   ]
  },
  {
   "cell_type": "code",
   "execution_count": 49,
   "metadata": {},
   "outputs": [
    {
     "data": {
      "text/plain": [
       "Sky Sports Football    533\n",
       "The United Stand       301\n",
       "BT Sport               246\n",
       "NBA                    209\n",
       "NFL                    162\n",
       "WWE                    122\n",
       "SSSniperWolf            99\n",
       "SSundee                 98\n",
       "FORMULA 1               87\n",
       "NHL                     86\n",
       "Name: channel_title, dtype: int64"
      ]
     },
     "execution_count": 49,
     "metadata": {},
     "output_type": "execute_result"
    }
   ],
   "source": [
    "b[:10]          #   This Prints the Top 10 channel_title of highest number of Videos"
   ]
  },
  {
   "cell_type": "code",
   "execution_count": 50,
   "metadata": {},
   "outputs": [
    {
     "data": {
      "text/plain": [
       "Ohio State Football          1\n",
       "boqer123                     1\n",
       "xisumatwo                    1\n",
       "Gaming with Griff Griffin    1\n",
       "KoncreteJungle               1\n",
       "JFlaMusic                    1\n",
       "Ron Bielecki                 1\n",
       "GLAD Empire                  1\n",
       "Hip Hop News Uncensored      1\n",
       "Master Podcast               1\n",
       "Name: channel_title, dtype: int64"
      ]
     },
     "execution_count": 50,
     "metadata": {},
     "output_type": "execute_result"
    }
   ],
   "source": [
    "b[-10:]          #   This Prints the Top 10 channel_title of lowest number of Videos"
   ]
  },
  {
   "cell_type": "markdown",
   "metadata": {},
   "source": [
    "## 11. Find title of video which has maximum no of likes and the title of video having minimum likes."
   ]
  },
  {
   "cell_type": "markdown",
   "metadata": {},
   "source": [
    "##### Using max function and getting the Max value and matching the index of it to get the index of the max likes"
   ]
  },
  {
   "cell_type": "code",
   "execution_count": 51,
   "metadata": {},
   "outputs": [],
   "source": [
    "#   Copying into a variable to avoid Tampering the Main DataFrame\n",
    "b=a.copy()"
   ]
  },
  {
   "cell_type": "code",
   "execution_count": 52,
   "metadata": {},
   "outputs": [
    {
     "name": "stdout",
     "output_type": "stream",
     "text": [
      "26143 23855\n"
     ]
    }
   ],
   "source": [
    "#   Variable = b.index(b['Column']==b['Column'].max()) The idea is to match the maximum value to the same column and so we get the boolean value and from that to get the Index Value\n",
    "#   The same format is used for the minimum and other columns to get the index.\n",
    "\n",
    "b1=list(b.index[b['likes']==b['likes'].max()])      #   The Index value of Maximum Value in the Column is stored in Variable b1 \n",
    "b2=list(b.index[b['likes']==b['likes'].min()])      #   The Index Value of Minimum Value in the Column is stored in Variable b2\n",
    "print(b1[0],b2[0])                                  #   Index values of Maximum and Minimum is printed to Confirm it\n",
    "\n",
    "#   The output is converted to a list since it gives out index and datatype which is a pandas series and to simplify it.\n",
    "#   Like in the Below Cell which shows the output of it"
   ]
  },
  {
   "cell_type": "code",
   "execution_count": 53,
   "metadata": {},
   "outputs": [
    {
     "data": {
      "text/plain": [
       "Int64Index([26143], dtype='int64')"
      ]
     },
     "execution_count": 53,
     "metadata": {},
     "output_type": "execute_result"
    }
   ],
   "source": [
    "b.index[b['likes']==b['likes'].max()]"
   ]
  },
  {
   "cell_type": "markdown",
   "metadata": {},
   "source": [
    "#### Using the Index and retreving Title"
   ]
  },
  {
   "cell_type": "code",
   "execution_count": 54,
   "metadata": {},
   "outputs": [
    {
     "data": {
      "text/plain": [
       "(26143    BTS () 'Dynamite' Official MV\n",
       " Name: title, dtype: object,\n",
       " 26243    Adele - To Be Loved\n",
       " Name: title, dtype: object)"
      ]
     },
     "execution_count": 54,
     "metadata": {},
     "output_type": "execute_result"
    }
   ],
   "source": [
    "#   The property here we should use is loc because the it prints the Index assigned at the very beginning which is labelled at very beginning and is not changed\n",
    "#   Since we have dropped the rows which contains NaN values the Index label is not affected anywhere until it is resetted.\n",
    "#   When we use iloc it give us position based output.\n",
    "\n",
    "\n",
    "b.loc[b1].title,b.iloc[b1].title"
   ]
  },
  {
   "cell_type": "code",
   "execution_count": 55,
   "metadata": {},
   "outputs": [
    {
     "name": "stdout",
     "output_type": "stream",
     "text": [
      "The Title With Maximum Likes\t:\tBTS () 'Dynamite' Official MV ,\n",
      "The title with Minimum Likes\t:\tLeading the Charge | Circle K.\n"
     ]
    }
   ],
   "source": [
    "#   Using the loc property which takes in Index and retrieving the Title Column\n",
    "\n",
    "t1=list(b.loc[b1].title)\n",
    "t2=list(b.loc[b2].title)\n",
    "print(f'The Title With Maximum Likes\\t:\\t{t1[0]} ,\\nThe title with Minimum Likes\\t:\\t{t2[0]}.')"
   ]
  },
  {
   "cell_type": "code",
   "execution_count": 56,
   "metadata": {},
   "outputs": [
    {
     "data": {
      "text/plain": [
       "(\"BTS () 'Dynamite' Official MV\", 'Leading the Charge | Circle K')"
      ]
     },
     "execution_count": 56,
     "metadata": {},
     "output_type": "execute_result"
    }
   ],
   "source": [
    "#   The Whole Operation in 1 line for (max likes and min likes)\n",
    "\n",
    "(list(b.loc[list(b.index[b['likes']==b['likes'].max()])].title)[0],list(b.loc[list(b.index[b['likes']==b['likes'].min()])].title)[0])"
   ]
  },
  {
   "cell_type": "markdown",
   "metadata": {},
   "source": []
  },
  {
   "cell_type": "markdown",
   "metadata": {},
   "source": [
    "## 12. To find the title of the video which has maximum and minimum number of dislikes"
   ]
  },
  {
   "cell_type": "markdown",
   "metadata": {},
   "source": []
  },
  {
   "cell_type": "code",
   "execution_count": 57,
   "metadata": {},
   "outputs": [
    {
     "name": "stdout",
     "output_type": "stream",
     "text": [
      "[13591] [29482]\n"
     ]
    }
   ],
   "source": [
    "#   Using the same operations for the previous question using it here for dislikes column\n",
    "\n",
    "b1=list(b.index[b['dislikes']==b['dislikes'].max()])\n",
    "b2=list(b.index[b['dislikes']==b['dislikes'].min()])\n",
    "print(b1,b2)"
   ]
  },
  {
   "cell_type": "code",
   "execution_count": 58,
   "metadata": {},
   "outputs": [
    {
     "name": "stdout",
     "output_type": "stream",
     "text": [
      "The Title With Maximum Disikes\t:\tCuties | Official Trailer | Netflix ,\n",
      "The title with Minimum Disikes\t:\tTims For Good: A Taste Of The Familiar.\n"
     ]
    }
   ],
   "source": [
    "t1=list(b.loc[b1].title)\n",
    "t2=list(b.loc[b2].title)\n",
    "print(f'The Title With Maximum Disikes\\t:\\t{t1[0]} ,\\nThe title with Minimum Disikes\\t:\\t{t2[0]}.')"
   ]
  },
  {
   "cell_type": "markdown",
   "metadata": {},
   "source": []
  },
  {
   "cell_type": "markdown",
   "metadata": {},
   "source": [
    "## 13. Does the number of views have any effect on how many people disliked the video? support your answer with a metric and a plot"
   ]
  },
  {
   "cell_type": "markdown",
   "metadata": {},
   "source": [
    "### Taking Temporary Variables to store required Data"
   ]
  },
  {
   "cell_type": "markdown",
   "metadata": {},
   "source": [
    "3 Different Sorted Data from the Main Data Frame is taken to Find the Assumption "
   ]
  },
  {
   "cell_type": "code",
   "execution_count": 59,
   "metadata": {},
   "outputs": [],
   "source": [
    "c1=b.sort_values(by='likes',ascending=False)[:10][['title','likes','dislikes','view_count']]\n",
    "# b.sort_values(by='likes',ascending=False)[:10][['title','likes','dislikes','view_count']]"
   ]
  },
  {
   "cell_type": "code",
   "execution_count": 60,
   "metadata": {},
   "outputs": [],
   "source": [
    "c2=b.sort_values(by='dislikes',ascending=False)[:10][['title','dislikes','likes','view_count']]\n",
    "# b.sort_values(by='dislikes',ascending=False)[:10][['title','dislikes','likes','view_count']]"
   ]
  },
  {
   "cell_type": "code",
   "execution_count": 61,
   "metadata": {},
   "outputs": [],
   "source": [
    "b=a.copy()\n",
    "c3=b.sort_values(by='view_count',ascending=False)[:10][['title','likes','dislikes','view_count']]\n",
    "# b.sort_values(by='likes',ascending=False)[:10][['title','view_count','likes','dislikes']]"
   ]
  },
  {
   "cell_type": "markdown",
   "metadata": {},
   "source": [
    "### Mini Data Frame to Focus to find the Assumption"
   ]
  },
  {
   "cell_type": "code",
   "execution_count": 62,
   "metadata": {},
   "outputs": [
    {
     "data": {
      "text/html": [
       "<div>\n",
       "<style scoped>\n",
       "    .dataframe tbody tr th:only-of-type {\n",
       "        vertical-align: middle;\n",
       "    }\n",
       "\n",
       "    .dataframe tbody tr th {\n",
       "        vertical-align: top;\n",
       "    }\n",
       "\n",
       "    .dataframe thead th {\n",
       "        text-align: right;\n",
       "    }\n",
       "</style>\n",
       "<table border=\"1\" class=\"dataframe\">\n",
       "  <thead>\n",
       "    <tr style=\"text-align: right;\">\n",
       "      <th></th>\n",
       "      <th>title</th>\n",
       "      <th>likes</th>\n",
       "      <th>dislikes</th>\n",
       "      <th>view_count</th>\n",
       "    </tr>\n",
       "  </thead>\n",
       "  <tbody>\n",
       "    <tr>\n",
       "      <th>26143</th>\n",
       "      <td>BTS () 'Dynamite' Official MV</td>\n",
       "      <td>31837675</td>\n",
       "      <td>1814333</td>\n",
       "      <td>1322796924</td>\n",
       "    </tr>\n",
       "    <tr>\n",
       "      <th>19583</th>\n",
       "      <td>BTS () 'Butter' Official MV</td>\n",
       "      <td>20649409</td>\n",
       "      <td>467125</td>\n",
       "      <td>638732230</td>\n",
       "    </tr>\n",
       "    <tr>\n",
       "      <th>34758</th>\n",
       "      <td>BLACKPINK - 'Ice Cream (with Selena Gomez)' M/V</td>\n",
       "      <td>17864527</td>\n",
       "      <td>1253187</td>\n",
       "      <td>671712535</td>\n",
       "    </tr>\n",
       "    <tr>\n",
       "      <th>57</th>\n",
       "      <td>BTS () 'Life Goes On' Official MV</td>\n",
       "      <td>16354127</td>\n",
       "      <td>281252</td>\n",
       "      <td>412591136</td>\n",
       "    </tr>\n",
       "    <tr>\n",
       "      <th>8176</th>\n",
       "      <td>BTS () 'Permission to Dance' Official MV</td>\n",
       "      <td>15449003</td>\n",
       "      <td>279664</td>\n",
       "      <td>392440299</td>\n",
       "    </tr>\n",
       "    <tr>\n",
       "      <th>22870</th>\n",
       "      <td>LISA - 'LALISA' M/V</td>\n",
       "      <td>14680271</td>\n",
       "      <td>253593</td>\n",
       "      <td>369525630</td>\n",
       "    </tr>\n",
       "    <tr>\n",
       "      <th>24598</th>\n",
       "      <td>BLACKPINK - 'Lovesick Girls' M/V</td>\n",
       "      <td>13641573</td>\n",
       "      <td>325697</td>\n",
       "      <td>518378576</td>\n",
       "    </tr>\n",
       "    <tr>\n",
       "      <th>30874</th>\n",
       "      <td>THIS NEARLY GAVE HIM A HEART ATTACK!</td>\n",
       "      <td>12219447</td>\n",
       "      <td>620645</td>\n",
       "      <td>336817144</td>\n",
       "    </tr>\n",
       "    <tr>\n",
       "      <th>950</th>\n",
       "      <td>$456,000 Squid Game In Real Life!</td>\n",
       "      <td>11729606</td>\n",
       "      <td>83338</td>\n",
       "      <td>160234180</td>\n",
       "    </tr>\n",
       "    <tr>\n",
       "      <th>9644</th>\n",
       "      <td>Bella Poarch - Build a B*tch (Official Music V...</td>\n",
       "      <td>10734829</td>\n",
       "      <td>441706</td>\n",
       "      <td>340284935</td>\n",
       "    </tr>\n",
       "  </tbody>\n",
       "</table>\n",
       "</div>"
      ],
      "text/plain": [
       "                                                   title     likes  dislikes  \\\n",
       "26143                      BTS () 'Dynamite' Official MV  31837675   1814333   \n",
       "19583                        BTS () 'Butter' Official MV  20649409    467125   \n",
       "34758    BLACKPINK - 'Ice Cream (with Selena Gomez)' M/V  17864527   1253187   \n",
       "57                     BTS () 'Life Goes On' Official MV  16354127    281252   \n",
       "8176            BTS () 'Permission to Dance' Official MV  15449003    279664   \n",
       "22870                                LISA - 'LALISA' M/V  14680271    253593   \n",
       "24598                   BLACKPINK - 'Lovesick Girls' M/V  13641573    325697   \n",
       "30874              THIS NEARLY GAVE HIM A HEART ATTACK!   12219447    620645   \n",
       "950                    $456,000 Squid Game In Real Life!  11729606     83338   \n",
       "9644   Bella Poarch - Build a B*tch (Official Music V...  10734829    441706   \n",
       "\n",
       "       view_count  \n",
       "26143  1322796924  \n",
       "19583   638732230  \n",
       "34758   671712535  \n",
       "57      412591136  \n",
       "8176    392440299  \n",
       "22870   369525630  \n",
       "24598   518378576  \n",
       "30874   336817144  \n",
       "950     160234180  \n",
       "9644    340284935  "
      ]
     },
     "execution_count": 62,
     "metadata": {},
     "output_type": "execute_result"
    }
   ],
   "source": [
    "c1"
   ]
  },
  {
   "cell_type": "code",
   "execution_count": 63,
   "metadata": {},
   "outputs": [
    {
     "data": {
      "text/html": [
       "<div>\n",
       "<style scoped>\n",
       "    .dataframe tbody tr th:only-of-type {\n",
       "        vertical-align: middle;\n",
       "    }\n",
       "\n",
       "    .dataframe tbody tr th {\n",
       "        vertical-align: top;\n",
       "    }\n",
       "\n",
       "    .dataframe thead th {\n",
       "        text-align: right;\n",
       "    }\n",
       "</style>\n",
       "<table border=\"1\" class=\"dataframe\">\n",
       "  <thead>\n",
       "    <tr style=\"text-align: right;\">\n",
       "      <th></th>\n",
       "      <th>title</th>\n",
       "      <th>dislikes</th>\n",
       "      <th>likes</th>\n",
       "      <th>view_count</th>\n",
       "    </tr>\n",
       "  </thead>\n",
       "  <tbody>\n",
       "    <tr>\n",
       "      <th>13591</th>\n",
       "      <td>Cuties | Official Trailer | Netflix</td>\n",
       "      <td>2397733</td>\n",
       "      <td>94569</td>\n",
       "      <td>17996395</td>\n",
       "    </tr>\n",
       "    <tr>\n",
       "      <th>26143</th>\n",
       "      <td>BTS () 'Dynamite' Official MV</td>\n",
       "      <td>1814333</td>\n",
       "      <td>31837675</td>\n",
       "      <td>1322796924</td>\n",
       "    </tr>\n",
       "    <tr>\n",
       "      <th>26894</th>\n",
       "      <td>Cardi B - WAP feat. Megan Thee Stallion [Offic...</td>\n",
       "      <td>1331181</td>\n",
       "      <td>8140694</td>\n",
       "      <td>432214292</td>\n",
       "    </tr>\n",
       "    <tr>\n",
       "      <th>7955</th>\n",
       "      <td>52 GAJ KA DAMAN | PRANJAL DAHIYA | AMAN JAJI |...</td>\n",
       "      <td>1259533</td>\n",
       "      <td>6326231</td>\n",
       "      <td>1269596718</td>\n",
       "    </tr>\n",
       "    <tr>\n",
       "      <th>34758</th>\n",
       "      <td>BLACKPINK - 'Ice Cream (with Selena Gomez)' M/V</td>\n",
       "      <td>1253187</td>\n",
       "      <td>17864527</td>\n",
       "      <td>671712535</td>\n",
       "    </tr>\n",
       "    <tr>\n",
       "      <th>4716</th>\n",
       "      <td>Lil Nas X - MONTERO (Call Me By Your Name) (Of...</td>\n",
       "      <td>1224559</td>\n",
       "      <td>9551666</td>\n",
       "      <td>404190118</td>\n",
       "    </tr>\n",
       "    <tr>\n",
       "      <th>25765</th>\n",
       "      <td>Tip Chocolate Hacks With Balloon</td>\n",
       "      <td>802354</td>\n",
       "      <td>9689693</td>\n",
       "      <td>347329515</td>\n",
       "    </tr>\n",
       "    <tr>\n",
       "      <th>21473</th>\n",
       "      <td>Coke &amp; Mentos Bottle INSIDE Balloon!! *Experim...</td>\n",
       "      <td>724993</td>\n",
       "      <td>6657200</td>\n",
       "      <td>305556145</td>\n",
       "    </tr>\n",
       "    <tr>\n",
       "      <th>21252</th>\n",
       "      <td>A STORY ABOUT GREED</td>\n",
       "      <td>643536</td>\n",
       "      <td>6336223</td>\n",
       "      <td>198059677</td>\n",
       "    </tr>\n",
       "    <tr>\n",
       "      <th>30874</th>\n",
       "      <td>THIS NEARLY GAVE HIM A HEART ATTACK!</td>\n",
       "      <td>620645</td>\n",
       "      <td>12219447</td>\n",
       "      <td>336817144</td>\n",
       "    </tr>\n",
       "  </tbody>\n",
       "</table>\n",
       "</div>"
      ],
      "text/plain": [
       "                                                   title  dislikes     likes  \\\n",
       "13591                Cuties | Official Trailer | Netflix   2397733     94569   \n",
       "26143                      BTS () 'Dynamite' Official MV   1814333  31837675   \n",
       "26894  Cardi B - WAP feat. Megan Thee Stallion [Offic...   1331181   8140694   \n",
       "7955   52 GAJ KA DAMAN | PRANJAL DAHIYA | AMAN JAJI |...   1259533   6326231   \n",
       "34758    BLACKPINK - 'Ice Cream (with Selena Gomez)' M/V   1253187  17864527   \n",
       "4716   Lil Nas X - MONTERO (Call Me By Your Name) (Of...   1224559   9551666   \n",
       "25765                   Tip Chocolate Hacks With Balloon    802354   9689693   \n",
       "21473  Coke & Mentos Bottle INSIDE Balloon!! *Experim...    724993   6657200   \n",
       "21252                               A STORY ABOUT GREED     643536   6336223   \n",
       "30874              THIS NEARLY GAVE HIM A HEART ATTACK!     620645  12219447   \n",
       "\n",
       "       view_count  \n",
       "13591    17996395  \n",
       "26143  1322796924  \n",
       "26894   432214292  \n",
       "7955   1269596718  \n",
       "34758   671712535  \n",
       "4716    404190118  \n",
       "25765   347329515  \n",
       "21473   305556145  \n",
       "21252   198059677  \n",
       "30874   336817144  "
      ]
     },
     "execution_count": 63,
     "metadata": {},
     "output_type": "execute_result"
    }
   ],
   "source": [
    "c2"
   ]
  },
  {
   "cell_type": "code",
   "execution_count": 64,
   "metadata": {},
   "outputs": [
    {
     "data": {
      "text/html": [
       "<div>\n",
       "<style scoped>\n",
       "    .dataframe tbody tr th:only-of-type {\n",
       "        vertical-align: middle;\n",
       "    }\n",
       "\n",
       "    .dataframe tbody tr th {\n",
       "        vertical-align: top;\n",
       "    }\n",
       "\n",
       "    .dataframe thead th {\n",
       "        text-align: right;\n",
       "    }\n",
       "</style>\n",
       "<table border=\"1\" class=\"dataframe\">\n",
       "  <thead>\n",
       "    <tr style=\"text-align: right;\">\n",
       "      <th></th>\n",
       "      <th>title</th>\n",
       "      <th>likes</th>\n",
       "      <th>dislikes</th>\n",
       "      <th>view_count</th>\n",
       "    </tr>\n",
       "  </thead>\n",
       "  <tbody>\n",
       "    <tr>\n",
       "      <th>26143</th>\n",
       "      <td>BTS () 'Dynamite' Official MV</td>\n",
       "      <td>31837675</td>\n",
       "      <td>1814333</td>\n",
       "      <td>1322796924</td>\n",
       "    </tr>\n",
       "    <tr>\n",
       "      <th>7955</th>\n",
       "      <td>52 GAJ KA DAMAN | PRANJAL DAHIYA | AMAN JAJI |...</td>\n",
       "      <td>6326231</td>\n",
       "      <td>1259533</td>\n",
       "      <td>1269596718</td>\n",
       "    </tr>\n",
       "    <tr>\n",
       "      <th>18127</th>\n",
       "      <td>BAD BUNNY x JHAY CORTEZ - DKITI (Video Oficial)</td>\n",
       "      <td>7496062</td>\n",
       "      <td>290062</td>\n",
       "      <td>976281963</td>\n",
       "    </tr>\n",
       "    <tr>\n",
       "      <th>16270</th>\n",
       "      <td>KAROL G - BICHOTA</td>\n",
       "      <td>5713346</td>\n",
       "      <td>489286</td>\n",
       "      <td>915874131</td>\n",
       "    </tr>\n",
       "    <tr>\n",
       "      <th>34758</th>\n",
       "      <td>BLACKPINK - 'Ice Cream (with Selena Gomez)' M/V</td>\n",
       "      <td>17864527</td>\n",
       "      <td>1253187</td>\n",
       "      <td>671712535</td>\n",
       "    </tr>\n",
       "    <tr>\n",
       "      <th>31864</th>\n",
       "      <td>Camilo - Vida de Rico (Official Video)</td>\n",
       "      <td>5373238</td>\n",
       "      <td>330334</td>\n",
       "      <td>669202777</td>\n",
       "    </tr>\n",
       "    <tr>\n",
       "      <th>19583</th>\n",
       "      <td>BTS () 'Butter' Official MV</td>\n",
       "      <td>20649409</td>\n",
       "      <td>467125</td>\n",
       "      <td>638732230</td>\n",
       "    </tr>\n",
       "    <tr>\n",
       "      <th>20299</th>\n",
       "      <td>The Weeknd - Save Your Tears (Official Music V...</td>\n",
       "      <td>5225411</td>\n",
       "      <td>178037</td>\n",
       "      <td>620327393</td>\n",
       "    </tr>\n",
       "    <tr>\n",
       "      <th>17776</th>\n",
       "      <td>Naach Meri Rani: Guru Randhawa Feat. Nora Fate...</td>\n",
       "      <td>5452259</td>\n",
       "      <td>517705</td>\n",
       "      <td>580564915</td>\n",
       "    </tr>\n",
       "    <tr>\n",
       "      <th>2213</th>\n",
       "      <td>KAROL G, Mariah Angeliq - EL MAKINON (Official...</td>\n",
       "      <td>3346080</td>\n",
       "      <td>194973</td>\n",
       "      <td>562716952</td>\n",
       "    </tr>\n",
       "  </tbody>\n",
       "</table>\n",
       "</div>"
      ],
      "text/plain": [
       "                                                   title     likes  dislikes  \\\n",
       "26143                      BTS () 'Dynamite' Official MV  31837675   1814333   \n",
       "7955   52 GAJ KA DAMAN | PRANJAL DAHIYA | AMAN JAJI |...   6326231   1259533   \n",
       "18127    BAD BUNNY x JHAY CORTEZ - DKITI (Video Oficial)   7496062    290062   \n",
       "16270                                  KAROL G - BICHOTA   5713346    489286   \n",
       "34758    BLACKPINK - 'Ice Cream (with Selena Gomez)' M/V  17864527   1253187   \n",
       "31864             Camilo - Vida de Rico (Official Video)   5373238    330334   \n",
       "19583                        BTS () 'Butter' Official MV  20649409    467125   \n",
       "20299  The Weeknd - Save Your Tears (Official Music V...   5225411    178037   \n",
       "17776  Naach Meri Rani: Guru Randhawa Feat. Nora Fate...   5452259    517705   \n",
       "2213   KAROL G, Mariah Angeliq - EL MAKINON (Official...   3346080    194973   \n",
       "\n",
       "       view_count  \n",
       "26143  1322796924  \n",
       "7955   1269596718  \n",
       "18127   976281963  \n",
       "16270   915874131  \n",
       "34758   671712535  \n",
       "31864   669202777  \n",
       "19583   638732230  \n",
       "20299   620327393  \n",
       "17776   580564915  \n",
       "2213    562716952  "
      ]
     },
     "execution_count": 64,
     "metadata": {},
     "output_type": "execute_result"
    }
   ],
   "source": [
    "c3"
   ]
  },
  {
   "cell_type": "markdown",
   "metadata": {},
   "source": [
    "### Ploting a Bar Graph"
   ]
  },
  {
   "cell_type": "markdown",
   "metadata": {},
   "source": [
    "Using the Same template to all the 3 different sorted Data set to plot a Bar Graph and to infer it"
   ]
  },
  {
   "cell_type": "code",
   "execution_count": 65,
   "metadata": {},
   "outputs": [
    {
     "data": {
      "image/png": "[encoded data removed]",
      "text/plain": [
       "<Figure size 640x480 with 2 Axes>"
      ]
     },
     "metadata": {},
     "output_type": "display_data"
    }
   ],
   "source": [
    "#   Based on Sorted Likes\n",
    "\n",
    "#   Storing Title , Dislikes , Likes in a temporary variable for easier to call\n",
    "d1=c1.title                                                     \n",
    "d2=c1.dislikes\n",
    "d3=c1.likes\n",
    "\n",
    "#   To Create Figure and Axes \n",
    "fig, ax1 = plt.subplots()\n",
    "plt.xticks(rotation=90)\n",
    "#   To plot Title\n",
    "plt.title('Likes based Sort vs Likes and Dislikes')\n",
    "#   To Plot the Title of the X axis\n",
    "plt.xlabel('Video Title')\n",
    "\n",
    "\n",
    "#   To Create Position\n",
    "br1=np.arange(len(d2))\n",
    "br2=[x + 0.3 for x in br1]\n",
    "\n",
    "#   To Create a left axis of Dislikes\n",
    "ax1.bar(d1,d2,color='red',label='Dislikes',width=0.2)\n",
    "ax1.set_ylabel('Dislikes',c='red')\n",
    "\n",
    "#   To Create a TwinX axis which shares the same x axis\n",
    "ax2=ax1.twinx()\n",
    "\n",
    "#   To Create a Right Axis of Likes\n",
    "ax2.bar(br2,d3,color='Green',label='Likes',width=0.2)\n",
    "ax2.set_ylabel('Likes',c='Green')\n",
    "\n",
    "#   To Plot the Figure\n",
    "plt.show()"
   ]
  },
  {
   "cell_type": "code",
   "execution_count": 66,
   "metadata": {},
   "outputs": [
    {
     "data": {
      "image/png": "[encoded data removed]",
      "text/plain": [
       "<Figure size 640x480 with 2 Axes>"
      ]
     },
     "metadata": {},
     "output_type": "display_data"
    }
   ],
   "source": [
    "#   Based on Sorted Dislikes\n",
    "\n",
    "#   Storing Title , Dislikes , Likes in a temporary variable for easier to call\n",
    "d1=c2.title                                                     \n",
    "d2=c2.dislikes\n",
    "d3=c2.likes\n",
    "\n",
    "#   To Create Figure and Axes \n",
    "fig, ax1 = plt.subplots()\n",
    "plt.xticks(rotation=90)\n",
    "#   To plot Title\n",
    "plt.title('Dislikes based Sort vs Likes and Dislikes')\n",
    "#   To Plot the Title of the X axis\n",
    "plt.xlabel('Video Title')\n",
    "\n",
    "\n",
    "#   To Create Position\n",
    "br1=np.arange(len(d2))\n",
    "br2=[x + 0.3 for x in br1]\n",
    "\n",
    "#   To Create a left axis of Dislikes\n",
    "ax1.bar(d1,d2,color='red',label='Dislikes',width=0.2)\n",
    "ax1.set_ylabel('Dislikes',c='red')\n",
    "\n",
    "#   To Create a TwinX axis which shares the same x axis\n",
    "ax2=ax1.twinx()\n",
    "\n",
    "#   To Create a Right Axis of Likes\n",
    "ax2.bar(br2,d3,color='Green',label='Likes',width=0.2)\n",
    "ax2.set_ylabel('Likes',c='Green')\n",
    "\n",
    "#   To Plot the Figure\n",
    "plt.show()"
   ]
  },
  {
   "cell_type": "code",
   "execution_count": 67,
   "metadata": {},
   "outputs": [
    {
     "data": {
      "image/png": "[encoded data removed]",
      "text/plain": [
       "<Figure size 640x480 with 2 Axes>"
      ]
     },
     "metadata": {},
     "output_type": "display_data"
    }
   ],
   "source": [
    "#   Based on Sorted view_count\n",
    "\n",
    "#   Storing Title , Dislikes , Likes in a temporary variable for easier to call\n",
    "d1=c3.title                                                     \n",
    "d2=c3.dislikes\n",
    "d3=c3.likes\n",
    "\n",
    "#   To Create Figure and Axes \n",
    "fig, ax1 = plt.subplots()\n",
    "plt.xticks(rotation=90)\n",
    "#   To plot Title\n",
    "plt.title('View Based Sort vs Likes and Dislikes')\n",
    "#   To Plot the Title of the X axis\n",
    "plt.xlabel('Video Title')\n",
    "\n",
    "\n",
    "#   To Create Position\n",
    "br1=np.arange(len(d2))\n",
    "br2=[x + 0.3 for x in br1]\n",
    "\n",
    "#   To Create a left axis of Dislikes\n",
    "ax1.bar(d1,d2,color='red',label='Dislikes',width=0.2)\n",
    "ax1.set_ylabel('Dislikes',c='red')\n",
    "\n",
    "#   To Create a TwinX axis which shares the same x axis\n",
    "ax2=ax1.twinx()\n",
    "\n",
    "#   To Create a Right Axis of Likes\n",
    "ax2.bar(br2,d3,color='Green',label='Likes',width=0.2)\n",
    "ax2.set_ylabel('Likes',c='Green')\n",
    "\n",
    "#   To Plot the Figure\n",
    "plt.show()\n"
   ]
  },
  {
   "cell_type": "markdown",
   "metadata": {},
   "source": [
    "### Metrics "
   ]
  },
  {
   "cell_type": "markdown",
   "metadata": {},
   "source": [
    "#### Below Code Cells Have The Same Template which converts Likes,Dislikes into Percentage"
   ]
  },
  {
   "cell_type": "code",
   "execution_count": 68,
   "metadata": {},
   "outputs": [],
   "source": [
    "c1['Dislike%']=c1.dislikes*100/c1.view_count\n",
    "c1['Likes%']=c1.likes*100/c1.view_count"
   ]
  },
  {
   "cell_type": "code",
   "execution_count": 69,
   "metadata": {},
   "outputs": [],
   "source": [
    "c2['Dislike%']=c2.dislikes*100/c2.view_count\n",
    "c2['Likes%']=c2.likes*100/c2.view_count"
   ]
  },
  {
   "cell_type": "code",
   "execution_count": 70,
   "metadata": {},
   "outputs": [],
   "source": [
    "c3['Dislike%']=c3.dislikes*100/c3.view_count\n",
    "c3['Likes%']=c3.likes*100/c3.view_count"
   ]
  },
  {
   "cell_type": "markdown",
   "metadata": {},
   "source": [
    "#### Printing the DataFrames"
   ]
  },
  {
   "cell_type": "code",
   "execution_count": 71,
   "metadata": {},
   "outputs": [
    {
     "data": {
      "text/html": [
       "<div>\n",
       "<style scoped>\n",
       "    .dataframe tbody tr th:only-of-type {\n",
       "        vertical-align: middle;\n",
       "    }\n",
       "\n",
       "    .dataframe tbody tr th {\n",
       "        vertical-align: top;\n",
       "    }\n",
       "\n",
       "    .dataframe thead th {\n",
       "        text-align: right;\n",
       "    }\n",
       "</style>\n",
       "<table border=\"1\" class=\"dataframe\">\n",
       "  <thead>\n",
       "    <tr style=\"text-align: right;\">\n",
       "      <th></th>\n",
       "      <th>title</th>\n",
       "      <th>likes</th>\n",
       "      <th>dislikes</th>\n",
       "      <th>view_count</th>\n",
       "      <th>Dislike%</th>\n",
       "      <th>Likes%</th>\n",
       "    </tr>\n",
       "  </thead>\n",
       "  <tbody>\n",
       "    <tr>\n",
       "      <th>26143</th>\n",
       "      <td>BTS () 'Dynamite' Official MV</td>\n",
       "      <td>31837675</td>\n",
       "      <td>1814333</td>\n",
       "      <td>1322796924</td>\n",
       "      <td>0.137159</td>\n",
       "      <td>2.406845</td>\n",
       "    </tr>\n",
       "    <tr>\n",
       "      <th>19583</th>\n",
       "      <td>BTS () 'Butter' Official MV</td>\n",
       "      <td>20649409</td>\n",
       "      <td>467125</td>\n",
       "      <td>638732230</td>\n",
       "      <td>0.073133</td>\n",
       "      <td>3.232874</td>\n",
       "    </tr>\n",
       "    <tr>\n",
       "      <th>34758</th>\n",
       "      <td>BLACKPINK - 'Ice Cream (with Selena Gomez)' M/V</td>\n",
       "      <td>17864527</td>\n",
       "      <td>1253187</td>\n",
       "      <td>671712535</td>\n",
       "      <td>0.186566</td>\n",
       "      <td>2.659549</td>\n",
       "    </tr>\n",
       "    <tr>\n",
       "      <th>57</th>\n",
       "      <td>BTS () 'Life Goes On' Official MV</td>\n",
       "      <td>16354127</td>\n",
       "      <td>281252</td>\n",
       "      <td>412591136</td>\n",
       "      <td>0.068167</td>\n",
       "      <td>3.963761</td>\n",
       "    </tr>\n",
       "    <tr>\n",
       "      <th>8176</th>\n",
       "      <td>BTS () 'Permission to Dance' Official MV</td>\n",
       "      <td>15449003</td>\n",
       "      <td>279664</td>\n",
       "      <td>392440299</td>\n",
       "      <td>0.071263</td>\n",
       "      <td>3.936651</td>\n",
       "    </tr>\n",
       "    <tr>\n",
       "      <th>22870</th>\n",
       "      <td>LISA - 'LALISA' M/V</td>\n",
       "      <td>14680271</td>\n",
       "      <td>253593</td>\n",
       "      <td>369525630</td>\n",
       "      <td>0.068627</td>\n",
       "      <td>3.972734</td>\n",
       "    </tr>\n",
       "    <tr>\n",
       "      <th>24598</th>\n",
       "      <td>BLACKPINK - 'Lovesick Girls' M/V</td>\n",
       "      <td>13641573</td>\n",
       "      <td>325697</td>\n",
       "      <td>518378576</td>\n",
       "      <td>0.062830</td>\n",
       "      <td>2.631585</td>\n",
       "    </tr>\n",
       "    <tr>\n",
       "      <th>30874</th>\n",
       "      <td>THIS NEARLY GAVE HIM A HEART ATTACK!</td>\n",
       "      <td>12219447</td>\n",
       "      <td>620645</td>\n",
       "      <td>336817144</td>\n",
       "      <td>0.184268</td>\n",
       "      <td>3.627917</td>\n",
       "    </tr>\n",
       "    <tr>\n",
       "      <th>950</th>\n",
       "      <td>$456,000 Squid Game In Real Life!</td>\n",
       "      <td>11729606</td>\n",
       "      <td>83338</td>\n",
       "      <td>160234180</td>\n",
       "      <td>0.052010</td>\n",
       "      <td>7.320290</td>\n",
       "    </tr>\n",
       "    <tr>\n",
       "      <th>9644</th>\n",
       "      <td>Bella Poarch - Build a B*tch (Official Music V...</td>\n",
       "      <td>10734829</td>\n",
       "      <td>441706</td>\n",
       "      <td>340284935</td>\n",
       "      <td>0.129805</td>\n",
       "      <td>3.154659</td>\n",
       "    </tr>\n",
       "  </tbody>\n",
       "</table>\n",
       "</div>"
      ],
      "text/plain": [
       "                                                   title     likes  dislikes  \\\n",
       "26143                      BTS () 'Dynamite' Official MV  31837675   1814333   \n",
       "19583                        BTS () 'Butter' Official MV  20649409    467125   \n",
       "34758    BLACKPINK - 'Ice Cream (with Selena Gomez)' M/V  17864527   1253187   \n",
       "57                     BTS () 'Life Goes On' Official MV  16354127    281252   \n",
       "8176            BTS () 'Permission to Dance' Official MV  15449003    279664   \n",
       "22870                                LISA - 'LALISA' M/V  14680271    253593   \n",
       "24598                   BLACKPINK - 'Lovesick Girls' M/V  13641573    325697   \n",
       "30874              THIS NEARLY GAVE HIM A HEART ATTACK!   12219447    620645   \n",
       "950                    $456,000 Squid Game In Real Life!  11729606     83338   \n",
       "9644   Bella Poarch - Build a B*tch (Official Music V...  10734829    441706   \n",
       "\n",
       "       view_count  Dislike%    Likes%  \n",
       "26143  1322796924  0.137159  2.406845  \n",
       "19583   638732230  0.073133  3.232874  \n",
       "34758   671712535  0.186566  2.659549  \n",
       "57      412591136  0.068167  3.963761  \n",
       "8176    392440299  0.071263  3.936651  \n",
       "22870   369525630  0.068627  3.972734  \n",
       "24598   518378576  0.062830  2.631585  \n",
       "30874   336817144  0.184268  3.627917  \n",
       "950     160234180  0.052010  7.320290  \n",
       "9644    340284935  0.129805  3.154659  "
      ]
     },
     "execution_count": 71,
     "metadata": {},
     "output_type": "execute_result"
    }
   ],
   "source": [
    "c1"
   ]
  },
  {
   "cell_type": "code",
   "execution_count": 72,
   "metadata": {},
   "outputs": [
    {
     "data": {
      "text/html": [
       "<div>\n",
       "<style scoped>\n",
       "    .dataframe tbody tr th:only-of-type {\n",
       "        vertical-align: middle;\n",
       "    }\n",
       "\n",
       "    .dataframe tbody tr th {\n",
       "        vertical-align: top;\n",
       "    }\n",
       "\n",
       "    .dataframe thead th {\n",
       "        text-align: right;\n",
       "    }\n",
       "</style>\n",
       "<table border=\"1\" class=\"dataframe\">\n",
       "  <thead>\n",
       "    <tr style=\"text-align: right;\">\n",
       "      <th></th>\n",
       "      <th>title</th>\n",
       "      <th>dislikes</th>\n",
       "      <th>likes</th>\n",
       "      <th>view_count</th>\n",
       "      <th>Dislike%</th>\n",
       "      <th>Likes%</th>\n",
       "    </tr>\n",
       "  </thead>\n",
       "  <tbody>\n",
       "    <tr>\n",
       "      <th>13591</th>\n",
       "      <td>Cuties | Official Trailer | Netflix</td>\n",
       "      <td>2397733</td>\n",
       "      <td>94569</td>\n",
       "      <td>17996395</td>\n",
       "      <td>13.323407</td>\n",
       "      <td>0.525489</td>\n",
       "    </tr>\n",
       "    <tr>\n",
       "      <th>26143</th>\n",
       "      <td>BTS () 'Dynamite' Official MV</td>\n",
       "      <td>1814333</td>\n",
       "      <td>31837675</td>\n",
       "      <td>1322796924</td>\n",
       "      <td>0.137159</td>\n",
       "      <td>2.406845</td>\n",
       "    </tr>\n",
       "    <tr>\n",
       "      <th>26894</th>\n",
       "      <td>Cardi B - WAP feat. Megan Thee Stallion [Offic...</td>\n",
       "      <td>1331181</td>\n",
       "      <td>8140694</td>\n",
       "      <td>432214292</td>\n",
       "      <td>0.307991</td>\n",
       "      <td>1.883486</td>\n",
       "    </tr>\n",
       "    <tr>\n",
       "      <th>7955</th>\n",
       "      <td>52 GAJ KA DAMAN | PRANJAL DAHIYA | AMAN JAJI |...</td>\n",
       "      <td>1259533</td>\n",
       "      <td>6326231</td>\n",
       "      <td>1269596718</td>\n",
       "      <td>0.099207</td>\n",
       "      <td>0.498287</td>\n",
       "    </tr>\n",
       "    <tr>\n",
       "      <th>34758</th>\n",
       "      <td>BLACKPINK - 'Ice Cream (with Selena Gomez)' M/V</td>\n",
       "      <td>1253187</td>\n",
       "      <td>17864527</td>\n",
       "      <td>671712535</td>\n",
       "      <td>0.186566</td>\n",
       "      <td>2.659549</td>\n",
       "    </tr>\n",
       "    <tr>\n",
       "      <th>4716</th>\n",
       "      <td>Lil Nas X - MONTERO (Call Me By Your Name) (Of...</td>\n",
       "      <td>1224559</td>\n",
       "      <td>9551666</td>\n",
       "      <td>404190118</td>\n",
       "      <td>0.302966</td>\n",
       "      <td>2.363162</td>\n",
       "    </tr>\n",
       "    <tr>\n",
       "      <th>25765</th>\n",
       "      <td>Tip Chocolate Hacks With Balloon</td>\n",
       "      <td>802354</td>\n",
       "      <td>9689693</td>\n",
       "      <td>347329515</td>\n",
       "      <td>0.231007</td>\n",
       "      <td>2.789770</td>\n",
       "    </tr>\n",
       "    <tr>\n",
       "      <th>21473</th>\n",
       "      <td>Coke &amp; Mentos Bottle INSIDE Balloon!! *Experim...</td>\n",
       "      <td>724993</td>\n",
       "      <td>6657200</td>\n",
       "      <td>305556145</td>\n",
       "      <td>0.237270</td>\n",
       "      <td>2.178716</td>\n",
       "    </tr>\n",
       "    <tr>\n",
       "      <th>21252</th>\n",
       "      <td>A STORY ABOUT GREED</td>\n",
       "      <td>643536</td>\n",
       "      <td>6336223</td>\n",
       "      <td>198059677</td>\n",
       "      <td>0.324920</td>\n",
       "      <td>3.199148</td>\n",
       "    </tr>\n",
       "    <tr>\n",
       "      <th>30874</th>\n",
       "      <td>THIS NEARLY GAVE HIM A HEART ATTACK!</td>\n",
       "      <td>620645</td>\n",
       "      <td>12219447</td>\n",
       "      <td>336817144</td>\n",
       "      <td>0.184268</td>\n",
       "      <td>3.627917</td>\n",
       "    </tr>\n",
       "  </tbody>\n",
       "</table>\n",
       "</div>"
      ],
      "text/plain": [
       "                                                   title  dislikes     likes  \\\n",
       "13591                Cuties | Official Trailer | Netflix   2397733     94569   \n",
       "26143                      BTS () 'Dynamite' Official MV   1814333  31837675   \n",
       "26894  Cardi B - WAP feat. Megan Thee Stallion [Offic...   1331181   8140694   \n",
       "7955   52 GAJ KA DAMAN | PRANJAL DAHIYA | AMAN JAJI |...   1259533   6326231   \n",
       "34758    BLACKPINK - 'Ice Cream (with Selena Gomez)' M/V   1253187  17864527   \n",
       "4716   Lil Nas X - MONTERO (Call Me By Your Name) (Of...   1224559   9551666   \n",
       "25765                   Tip Chocolate Hacks With Balloon    802354   9689693   \n",
       "21473  Coke & Mentos Bottle INSIDE Balloon!! *Experim...    724993   6657200   \n",
       "21252                               A STORY ABOUT GREED     643536   6336223   \n",
       "30874              THIS NEARLY GAVE HIM A HEART ATTACK!     620645  12219447   \n",
       "\n",
       "       view_count   Dislike%    Likes%  \n",
       "13591    17996395  13.323407  0.525489  \n",
       "26143  1322796924   0.137159  2.406845  \n",
       "26894   432214292   0.307991  1.883486  \n",
       "7955   1269596718   0.099207  0.498287  \n",
       "34758   671712535   0.186566  2.659549  \n",
       "4716    404190118   0.302966  2.363162  \n",
       "25765   347329515   0.231007  2.789770  \n",
       "21473   305556145   0.237270  2.178716  \n",
       "21252   198059677   0.324920  3.199148  \n",
       "30874   336817144   0.184268  3.627917  "
      ]
     },
     "execution_count": 72,
     "metadata": {},
     "output_type": "execute_result"
    }
   ],
   "source": [
    "c2"
   ]
  },
  {
   "cell_type": "code",
   "execution_count": 73,
   "metadata": {},
   "outputs": [
    {
     "data": {
      "text/html": [
       "<div>\n",
       "<style scoped>\n",
       "    .dataframe tbody tr th:only-of-type {\n",
       "        vertical-align: middle;\n",
       "    }\n",
       "\n",
       "    .dataframe tbody tr th {\n",
       "        vertical-align: top;\n",
       "    }\n",
       "\n",
       "    .dataframe thead th {\n",
       "        text-align: right;\n",
       "    }\n",
       "</style>\n",
       "<table border=\"1\" class=\"dataframe\">\n",
       "  <thead>\n",
       "    <tr style=\"text-align: right;\">\n",
       "      <th></th>\n",
       "      <th>title</th>\n",
       "      <th>likes</th>\n",
       "      <th>dislikes</th>\n",
       "      <th>view_count</th>\n",
       "      <th>Dislike%</th>\n",
       "      <th>Likes%</th>\n",
       "    </tr>\n",
       "  </thead>\n",
       "  <tbody>\n",
       "    <tr>\n",
       "      <th>26143</th>\n",
       "      <td>BTS () 'Dynamite' Official MV</td>\n",
       "      <td>31837675</td>\n",
       "      <td>1814333</td>\n",
       "      <td>1322796924</td>\n",
       "      <td>0.137159</td>\n",
       "      <td>2.406845</td>\n",
       "    </tr>\n",
       "    <tr>\n",
       "      <th>7955</th>\n",
       "      <td>52 GAJ KA DAMAN | PRANJAL DAHIYA | AMAN JAJI |...</td>\n",
       "      <td>6326231</td>\n",
       "      <td>1259533</td>\n",
       "      <td>1269596718</td>\n",
       "      <td>0.099207</td>\n",
       "      <td>0.498287</td>\n",
       "    </tr>\n",
       "    <tr>\n",
       "      <th>18127</th>\n",
       "      <td>BAD BUNNY x JHAY CORTEZ - DKITI (Video Oficial)</td>\n",
       "      <td>7496062</td>\n",
       "      <td>290062</td>\n",
       "      <td>976281963</td>\n",
       "      <td>0.029711</td>\n",
       "      <td>0.767817</td>\n",
       "    </tr>\n",
       "    <tr>\n",
       "      <th>16270</th>\n",
       "      <td>KAROL G - BICHOTA</td>\n",
       "      <td>5713346</td>\n",
       "      <td>489286</td>\n",
       "      <td>915874131</td>\n",
       "      <td>0.053423</td>\n",
       "      <td>0.623813</td>\n",
       "    </tr>\n",
       "    <tr>\n",
       "      <th>34758</th>\n",
       "      <td>BLACKPINK - 'Ice Cream (with Selena Gomez)' M/V</td>\n",
       "      <td>17864527</td>\n",
       "      <td>1253187</td>\n",
       "      <td>671712535</td>\n",
       "      <td>0.186566</td>\n",
       "      <td>2.659549</td>\n",
       "    </tr>\n",
       "    <tr>\n",
       "      <th>31864</th>\n",
       "      <td>Camilo - Vida de Rico (Official Video)</td>\n",
       "      <td>5373238</td>\n",
       "      <td>330334</td>\n",
       "      <td>669202777</td>\n",
       "      <td>0.049362</td>\n",
       "      <td>0.802931</td>\n",
       "    </tr>\n",
       "    <tr>\n",
       "      <th>19583</th>\n",
       "      <td>BTS () 'Butter' Official MV</td>\n",
       "      <td>20649409</td>\n",
       "      <td>467125</td>\n",
       "      <td>638732230</td>\n",
       "      <td>0.073133</td>\n",
       "      <td>3.232874</td>\n",
       "    </tr>\n",
       "    <tr>\n",
       "      <th>20299</th>\n",
       "      <td>The Weeknd - Save Your Tears (Official Music V...</td>\n",
       "      <td>5225411</td>\n",
       "      <td>178037</td>\n",
       "      <td>620327393</td>\n",
       "      <td>0.028700</td>\n",
       "      <td>0.842363</td>\n",
       "    </tr>\n",
       "    <tr>\n",
       "      <th>17776</th>\n",
       "      <td>Naach Meri Rani: Guru Randhawa Feat. Nora Fate...</td>\n",
       "      <td>5452259</td>\n",
       "      <td>517705</td>\n",
       "      <td>580564915</td>\n",
       "      <td>0.089173</td>\n",
       "      <td>0.939130</td>\n",
       "    </tr>\n",
       "    <tr>\n",
       "      <th>2213</th>\n",
       "      <td>KAROL G, Mariah Angeliq - EL MAKINON (Official...</td>\n",
       "      <td>3346080</td>\n",
       "      <td>194973</td>\n",
       "      <td>562716952</td>\n",
       "      <td>0.034649</td>\n",
       "      <td>0.594629</td>\n",
       "    </tr>\n",
       "  </tbody>\n",
       "</table>\n",
       "</div>"
      ],
      "text/plain": [
       "                                                   title     likes  dislikes  \\\n",
       "26143                      BTS () 'Dynamite' Official MV  31837675   1814333   \n",
       "7955   52 GAJ KA DAMAN | PRANJAL DAHIYA | AMAN JAJI |...   6326231   1259533   \n",
       "18127    BAD BUNNY x JHAY CORTEZ - DKITI (Video Oficial)   7496062    290062   \n",
       "16270                                  KAROL G - BICHOTA   5713346    489286   \n",
       "34758    BLACKPINK - 'Ice Cream (with Selena Gomez)' M/V  17864527   1253187   \n",
       "31864             Camilo - Vida de Rico (Official Video)   5373238    330334   \n",
       "19583                        BTS () 'Butter' Official MV  20649409    467125   \n",
       "20299  The Weeknd - Save Your Tears (Official Music V...   5225411    178037   \n",
       "17776  Naach Meri Rani: Guru Randhawa Feat. Nora Fate...   5452259    517705   \n",
       "2213   KAROL G, Mariah Angeliq - EL MAKINON (Official...   3346080    194973   \n",
       "\n",
       "       view_count  Dislike%    Likes%  \n",
       "26143  1322796924  0.137159  2.406845  \n",
       "7955   1269596718  0.099207  0.498287  \n",
       "18127   976281963  0.029711  0.767817  \n",
       "16270   915874131  0.053423  0.623813  \n",
       "34758   671712535  0.186566  2.659549  \n",
       "31864   669202777  0.049362  0.802931  \n",
       "19583   638732230  0.073133  3.232874  \n",
       "20299   620327393  0.028700  0.842363  \n",
       "17776   580564915  0.089173  0.939130  \n",
       "2213    562716952  0.034649  0.594629  "
      ]
     },
     "execution_count": 73,
     "metadata": {},
     "output_type": "execute_result"
    }
   ],
   "source": [
    "c3"
   ]
  },
  {
   "cell_type": "markdown",
   "metadata": {},
   "source": [
    "### Inference "
   ]
  },
  {
   "cell_type": "markdown",
   "metadata": {},
   "source": [
    "The Question is does the number of View affect on how many people disliked the Video !<br>\n",
    "From all the above data collected and processed and made it bar plots and metrics as percentage of likes and dislikes we Infer that\n",
    "\n",
    "- Bts Dynamite Video has the Maximum View Count and when it is compared to the standings in Dislikes it stands the seconds<br>\n",
    "- Like Wise if we Compare the 2nd Maximum View Count '52 Gaj ka daman' it stands the 4th in dislikes<br>\n",
    "- And when it comes to 'Bad Bunny' which is 3rd Maximum View Count it stands now where in top 10 Dislikes<br><br>\n",
    "- Apparently BTS Dynamite is most liked in the data set. And also in the top standing in Dislike is nowhere seen in the top 10 View counts<br>\n",
    "\n",
    "- From this General Obeservation we can't tell the number of people Disliked the Video.<br> Sometimes it affects and sometimes it is not affecting the dislikes.<br> BTS Dynamite is the Most Viewed video and it has 2nd Most dislikes. <br><br>\n",
    "- Also Cuties Trailer stands 1st in Dislikes and it should stand above in View Count but it didn't. <br>And From Metrics it has 13% of View Dislike which means there are people who selectively disliked it.<br><br>\n",
    "- From Sorted Dislikes(c3) we can see how the percentage is vaired with views and,<br> Also there are Like% which tells the actual standing of the video.<br><br>\n",
    "\n",
    "\n",
    "->Example BTS Dynamite Video has Dislike% of 0.13% and Likes 2.4 % with 1.3 Billion Views and <br>\n",
    "-> Cuties has Dislike% 13% and likes 0.5% with 17 Million Views and <br>-> From the statement it is supposed to be BTS which is to be most disliked. <br>->And it is Closer to most disliked with the number of views. But Bad Bunny has 0.02% of dislikes which disproves the Statment.\n",
    "<br>\n",
    "\n",
    "More oftenly if the content in the video is not aligning with the viewers, the viewer often hit dislike or <br>\n",
    "if he is a hater the persong might hit dislike the video.\n"
   ]
  },
  {
   "cell_type": "markdown",
   "metadata": {},
   "source": [
    "## 14. Display all the information about the videos that were published in January , and mention the count of videos that were published in January."
   ]
  },
  {
   "cell_type": "code",
   "execution_count": 74,
   "metadata": {},
   "outputs": [
    {
     "name": "stdout",
     "output_type": "stream",
     "text": [
      "The count or number of videos published in January is 2099\n"
     ]
    },
    {
     "data": {
      "text/html": [
       "<div>\n",
       "<style scoped>\n",
       "    .dataframe tbody tr th:only-of-type {\n",
       "        vertical-align: middle;\n",
       "    }\n",
       "\n",
       "    .dataframe tbody tr th {\n",
       "        vertical-align: top;\n",
       "    }\n",
       "\n",
       "    .dataframe thead th {\n",
       "        text-align: right;\n",
       "    }\n",
       "</style>\n",
       "<table border=\"1\" class=\"dataframe\">\n",
       "  <thead>\n",
       "    <tr style=\"text-align: right;\">\n",
       "      <th></th>\n",
       "      <th>video_id</th>\n",
       "      <th>title</th>\n",
       "      <th>channel_id</th>\n",
       "      <th>channel_title</th>\n",
       "      <th>published_at</th>\n",
       "      <th>view_count</th>\n",
       "      <th>likes</th>\n",
       "      <th>dislikes</th>\n",
       "      <th>comment_count</th>\n",
       "      <th>tags</th>\n",
       "      <th>description</th>\n",
       "      <th>comments</th>\n",
       "      <th>published_month</th>\n",
       "    </tr>\n",
       "  </thead>\n",
       "  <tbody>\n",
       "    <tr>\n",
       "      <th>27</th>\n",
       "      <td>-2Gwm7QfBnE</td>\n",
       "      <td>Q&amp;A With Naisha</td>\n",
       "      <td>UCYwNMbogQFzMccPSuy-pPWg</td>\n",
       "      <td>MianTwins</td>\n",
       "      <td>2021-01-21 00:05:47</td>\n",
       "      <td>872372</td>\n",
       "      <td>38626</td>\n",
       "      <td>239</td>\n",
       "      <td>621</td>\n",
       "      <td></td>\n",
       "      <td>Hey Guys!!! this has been the most requested v...</td>\n",
       "      <td>I feel like Nate and Aishas personality match ...</td>\n",
       "      <td>Jan</td>\n",
       "    </tr>\n",
       "    <tr>\n",
       "      <th>48</th>\n",
       "      <td>-4sfXSHSxzA</td>\n",
       "      <td>SURPRISING BRENT WITH HIS TIKTOK CRUSH!!</td>\n",
       "      <td>UCPpATKqmMV-CNRNWYaDUwiA</td>\n",
       "      <td>Alexa Rivera</td>\n",
       "      <td>2021-01-16 21:40:04</td>\n",
       "      <td>6504784</td>\n",
       "      <td>262477</td>\n",
       "      <td>5779</td>\n",
       "      <td>7907</td>\n",
       "      <td></td>\n",
       "      <td>He had no idea! Thank you guys so much for wat...</td>\n",
       "      <td>Thank you guys for watching and don't forget t...</td>\n",
       "      <td>Jan</td>\n",
       "    </tr>\n",
       "    <tr>\n",
       "      <th>95</th>\n",
       "      <td>-AJD1Fc5rpQ</td>\n",
       "      <td>WE ARE HAVING A BABY! | finding out i'm pregna...</td>\n",
       "      <td>UCVsTboAhpnuL6j-tDePvNwQ</td>\n",
       "      <td>Tess Christine</td>\n",
       "      <td>2021-01-03 21:53:48</td>\n",
       "      <td>533084</td>\n",
       "      <td>38965</td>\n",
       "      <td>119</td>\n",
       "      <td>1650</td>\n",
       "      <td></td>\n",
       "      <td>I am so happy to tell you that I am pregnant!!...</td>\n",
       "      <td>Okay I needed a moment to collect my thoughts ...</td>\n",
       "      <td>Jan</td>\n",
       "    </tr>\n",
       "    <tr>\n",
       "      <th>103</th>\n",
       "      <td>-AuJiwjsmWk</td>\n",
       "      <td>Do Ugly Foods Taste Worse? Taste Test</td>\n",
       "      <td>UCzpCc5n9hqiVC7HhPwcIKEg</td>\n",
       "      <td>Good Mythical MORE</td>\n",
       "      <td>2021-01-19 11:00:01</td>\n",
       "      <td>1057077</td>\n",
       "      <td>22526</td>\n",
       "      <td>531</td>\n",
       "      <td>773</td>\n",
       "      <td>gmm good mythical morning rhettandlink rhett a...</td>\n",
       "      <td>Today, we're doing a blind taste test to deter...</td>\n",
       "      <td>\"there's nothing wrong with it being bent\"\\nI ...</td>\n",
       "      <td>Jan</td>\n",
       "    </tr>\n",
       "    <tr>\n",
       "      <th>182</th>\n",
       "      <td>-JhqO2KWr5U</td>\n",
       "      <td>Schlatt gets fit</td>\n",
       "      <td>UCWZp4y1jqBuvLtiyxSs_ZBw</td>\n",
       "      <td>Big guy</td>\n",
       "      <td>2021-01-24 22:50:57</td>\n",
       "      <td>1724965</td>\n",
       "      <td>119431</td>\n",
       "      <td>325</td>\n",
       "      <td>1578</td>\n",
       "      <td>jschlatt big guy jschlatt highlights schlatt j...</td>\n",
       "      <td>#jschlatt #schlatt #bigguy #short</td>\n",
       "      <td>Schlatt is single handedly wiping out all the ...</td>\n",
       "      <td>Jan</td>\n",
       "    </tr>\n",
       "    <tr>\n",
       "      <th>...</th>\n",
       "      <td>...</td>\n",
       "      <td>...</td>\n",
       "      <td>...</td>\n",
       "      <td>...</td>\n",
       "      <td>...</td>\n",
       "      <td>...</td>\n",
       "      <td>...</td>\n",
       "      <td>...</td>\n",
       "      <td>...</td>\n",
       "      <td>...</td>\n",
       "      <td>...</td>\n",
       "      <td>...</td>\n",
       "      <td>...</td>\n",
       "    </tr>\n",
       "    <tr>\n",
       "      <th>37300</th>\n",
       "      <td>zmzFL5bG-jc</td>\n",
       "      <td>DEVINE MON PERSONNAGE AVANT AKINATOR ! (c'est ...</td>\n",
       "      <td>UCIlr3byh6wmXgcPx_Tm9Ocw</td>\n",
       "      <td>Piwerre</td>\n",
       "      <td>2021-01-16 16:12:19</td>\n",
       "      <td>670357</td>\n",
       "      <td>54462</td>\n",
       "      <td>832</td>\n",
       "      <td>1249</td>\n",
       "      <td>Piwerre frere de michou crouton among us devin...</td>\n",
       "      <td>Discord Piwerre : https://discord.gg/QBduPgAA...</td>\n",
       "      <td>Mdr michou quand c'est pas ses tournage il fou...</td>\n",
       "      <td>Jan</td>\n",
       "    </tr>\n",
       "    <tr>\n",
       "      <th>37329</th>\n",
       "      <td>zpzjex7qwrA</td>\n",
       "      <td>Lampard Sacked Within Days Rorys Misery | Chel...</td>\n",
       "      <td>UCkD-ZOixI0a9FjIExDsHsbg</td>\n",
       "      <td>The Kick Off</td>\n",
       "      <td>2021-01-03 20:13:49</td>\n",
       "      <td>428646</td>\n",
       "      <td>12060</td>\n",
       "      <td>296</td>\n",
       "      <td>1505</td>\n",
       "      <td>Premier league Chelsea chelsea 1-3 Man City Ch...</td>\n",
       "      <td>The Kick Off watched Manchester City destroy C...</td>\n",
       "      <td>True Its like a fighter who Geordie But I thou...</td>\n",
       "      <td>Jan</td>\n",
       "    </tr>\n",
       "    <tr>\n",
       "      <th>37345</th>\n",
       "      <td>zqyv-B6mnBM</td>\n",
       "      <td>Lil Wayne - Ain't Got Time (Audio)</td>\n",
       "      <td>UCO9zJy7HWrIS3ojB4Lr7Yqw</td>\n",
       "      <td>Lil Wayne</td>\n",
       "      <td>2021-01-21 05:00:10</td>\n",
       "      <td>2238244</td>\n",
       "      <td>58925</td>\n",
       "      <td>2365</td>\n",
       "      <td>5539</td>\n",
       "      <td>lil wayne weezy weezy wednesday wayne carter y...</td>\n",
       "      <td>Official audio for Lil Wayne \"Ain't Got Time\",...</td>\n",
       "      <td>RIP Juice Wrld, wrote that on two cups, pour o...</td>\n",
       "      <td>Jan</td>\n",
       "    </tr>\n",
       "    <tr>\n",
       "      <th>37383</th>\n",
       "      <td>zwfu1-24T7Q</td>\n",
       "      <td>PRADA Cup Day 1 | Full Race Replay | PRADA Cup...</td>\n",
       "      <td>UCo15ZYO_XDRU9LI30OPtxAg</td>\n",
       "      <td>America's Cup</td>\n",
       "      <td>2021-01-15 04:07:55</td>\n",
       "      <td>317382</td>\n",
       "      <td>2008</td>\n",
       "      <td>83</td>\n",
       "      <td>192</td>\n",
       "      <td>America's Cup Americas Cup AC36 AC75 Presented...</td>\n",
       "      <td>The opening day of the PRADA Cup in Auckland, ...</td>\n",
       "      <td>Incredible how these boats evolve in a short t...</td>\n",
       "      <td>Jan</td>\n",
       "    </tr>\n",
       "    <tr>\n",
       "      <th>37418</th>\n",
       "      <td>zziBybeSAtw</td>\n",
       "      <td>PELICANS at LAKERS | FULL GAME HIGHLIGHTS | Ja...</td>\n",
       "      <td>UCWJ2lWNubArHWmf3FIHbfcQ</td>\n",
       "      <td>NBA</td>\n",
       "      <td>2021-01-16 05:39:05</td>\n",
       "      <td>2841917</td>\n",
       "      <td>20759</td>\n",
       "      <td>1049</td>\n",
       "      <td>2624</td>\n",
       "      <td>NBA G League Basketball game-0022000187 Lakers...</td>\n",
       "      <td>PELICANS at LAKERS | FULL GAME HIGHLIGHTS | Ja...</td>\n",
       "      <td>Montrezl Harrell is going crazy with the rebou...</td>\n",
       "      <td>Jan</td>\n",
       "    </tr>\n",
       "  </tbody>\n",
       "</table>\n",
       "<p>2099 rows × 13 columns</p>\n",
       "</div>"
      ],
      "text/plain": [
       "          video_id                                              title  \\\n",
       "27     -2Gwm7QfBnE                                    Q&A With Naisha   \n",
       "48     -4sfXSHSxzA           SURPRISING BRENT WITH HIS TIKTOK CRUSH!!   \n",
       "95     -AJD1Fc5rpQ  WE ARE HAVING A BABY! | finding out i'm pregna...   \n",
       "103    -AuJiwjsmWk              Do Ugly Foods Taste Worse? Taste Test   \n",
       "182    -JhqO2KWr5U                                   Schlatt gets fit   \n",
       "...            ...                                                ...   \n",
       "37300  zmzFL5bG-jc  DEVINE MON PERSONNAGE AVANT AKINATOR ! (c'est ...   \n",
       "37329  zpzjex7qwrA  Lampard Sacked Within Days Rorys Misery | Chel...   \n",
       "37345  zqyv-B6mnBM                 Lil Wayne - Ain't Got Time (Audio)   \n",
       "37383  zwfu1-24T7Q  PRADA Cup Day 1 | Full Race Replay | PRADA Cup...   \n",
       "37418  zziBybeSAtw  PELICANS at LAKERS | FULL GAME HIGHLIGHTS | Ja...   \n",
       "\n",
       "                     channel_id       channel_title        published_at  \\\n",
       "27     UCYwNMbogQFzMccPSuy-pPWg           MianTwins 2021-01-21 00:05:47   \n",
       "48     UCPpATKqmMV-CNRNWYaDUwiA        Alexa Rivera 2021-01-16 21:40:04   \n",
       "95     UCVsTboAhpnuL6j-tDePvNwQ      Tess Christine 2021-01-03 21:53:48   \n",
       "103    UCzpCc5n9hqiVC7HhPwcIKEg  Good Mythical MORE 2021-01-19 11:00:01   \n",
       "182    UCWZp4y1jqBuvLtiyxSs_ZBw             Big guy 2021-01-24 22:50:57   \n",
       "...                         ...                 ...                 ...   \n",
       "37300  UCIlr3byh6wmXgcPx_Tm9Ocw             Piwerre 2021-01-16 16:12:19   \n",
       "37329  UCkD-ZOixI0a9FjIExDsHsbg        The Kick Off 2021-01-03 20:13:49   \n",
       "37345  UCO9zJy7HWrIS3ojB4Lr7Yqw           Lil Wayne 2021-01-21 05:00:10   \n",
       "37383  UCo15ZYO_XDRU9LI30OPtxAg       America's Cup 2021-01-15 04:07:55   \n",
       "37418  UCWJ2lWNubArHWmf3FIHbfcQ                 NBA 2021-01-16 05:39:05   \n",
       "\n",
       "       view_count   likes  dislikes  comment_count  \\\n",
       "27         872372   38626       239            621   \n",
       "48        6504784  262477      5779           7907   \n",
       "95         533084   38965       119           1650   \n",
       "103       1057077   22526       531            773   \n",
       "182       1724965  119431       325           1578   \n",
       "...           ...     ...       ...            ...   \n",
       "37300      670357   54462       832           1249   \n",
       "37329      428646   12060       296           1505   \n",
       "37345     2238244   58925      2365           5539   \n",
       "37383      317382    2008        83            192   \n",
       "37418     2841917   20759      1049           2624   \n",
       "\n",
       "                                                    tags  \\\n",
       "27                                                         \n",
       "48                                                         \n",
       "95                                                         \n",
       "103    gmm good mythical morning rhettandlink rhett a...   \n",
       "182    jschlatt big guy jschlatt highlights schlatt j...   \n",
       "...                                                  ...   \n",
       "37300  Piwerre frere de michou crouton among us devin...   \n",
       "37329  Premier league Chelsea chelsea 1-3 Man City Ch...   \n",
       "37345  lil wayne weezy weezy wednesday wayne carter y...   \n",
       "37383  America's Cup Americas Cup AC36 AC75 Presented...   \n",
       "37418  NBA G League Basketball game-0022000187 Lakers...   \n",
       "\n",
       "                                             description  \\\n",
       "27     Hey Guys!!! this has been the most requested v...   \n",
       "48     He had no idea! Thank you guys so much for wat...   \n",
       "95     I am so happy to tell you that I am pregnant!!...   \n",
       "103    Today, we're doing a blind taste test to deter...   \n",
       "182                    #jschlatt #schlatt #bigguy #short   \n",
       "...                                                  ...   \n",
       "37300   Discord Piwerre : https://discord.gg/QBduPgAA...   \n",
       "37329  The Kick Off watched Manchester City destroy C...   \n",
       "37345  Official audio for Lil Wayne \"Ain't Got Time\",...   \n",
       "37383  The opening day of the PRADA Cup in Auckland, ...   \n",
       "37418  PELICANS at LAKERS | FULL GAME HIGHLIGHTS | Ja...   \n",
       "\n",
       "                                                comments published_month  \n",
       "27     I feel like Nate and Aishas personality match ...             Jan  \n",
       "48     Thank you guys for watching and don't forget t...             Jan  \n",
       "95     Okay I needed a moment to collect my thoughts ...             Jan  \n",
       "103    \"there's nothing wrong with it being bent\"\\nI ...             Jan  \n",
       "182    Schlatt is single handedly wiping out all the ...             Jan  \n",
       "...                                                  ...             ...  \n",
       "37300  Mdr michou quand c'est pas ses tournage il fou...             Jan  \n",
       "37329  True Its like a fighter who Geordie But I thou...             Jan  \n",
       "37345  RIP Juice Wrld, wrote that on two cups, pour o...             Jan  \n",
       "37383  Incredible how these boats evolve in a short t...             Jan  \n",
       "37418  Montrezl Harrell is going crazy with the rebou...             Jan  \n",
       "\n",
       "[2099 rows x 13 columns]"
      ]
     },
     "execution_count": 74,
     "metadata": {},
     "output_type": "execute_result"
    }
   ],
   "source": [
    "jan = a.loc[a['published_month']=='Jan']\n",
    "print(f'The count or number of videos published in January is {jan.value_counts().sum()}')\n",
    "jan"
   ]
  }
 ],
 "metadata": {
  "kernelspec": {
   "display_name": "Python 3 (ipykernel)",
   "language": "python",
   "name": "python3"
  },
  "language_info": {
   "codemirror_mode": {
    "name": "ipython",
    "version": 3
   },
   "file_extension": ".py",
   "mimetype": "text/x-python",
   "name": "python",
   "nbconvert_exporter": "python",
   "pygments_lexer": "ipython3",
   "version": "3.10.9"
  }
 },
 "nbformat": 4,
 "nbformat_minor": 2
}
